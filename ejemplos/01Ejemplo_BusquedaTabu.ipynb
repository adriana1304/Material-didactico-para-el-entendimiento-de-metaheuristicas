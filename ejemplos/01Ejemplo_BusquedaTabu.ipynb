{
 "cells": [
  {
   "cell_type": "markdown",
   "metadata": {},
   "source": [
    "# Ejemplo: Búsqueda Tabú (BT)"
   ]
  },
  {
   "cell_type": "markdown",
   "metadata": {},
   "source": [
    "## Problema de la mochila binario"
   ]
  },
  {
   "cell_type": "markdown",
   "metadata": {},
   "source": [
    "El problema de la mochila binario (0/1 Knapsack problem) considera un conjunto finito de $n$ objetos, donde cada objeto $i$ tiene un valor $p_i$ y un peso $w_i$, y una mochila que puede soportar hasta un peso determinado $c$. El objetivo es encontrar el subconjunto de objetos que puedan ser transportados en la mochila, maximizando el valor de la mochila. Formalmente se define como sigue:"
   ]
  },
  {
   "cell_type": "markdown",
   "metadata": {},
   "source": [
    "\\begin{equation}\n",
    "  \\label{eq:KP}\n",
    "  \\begin{array}{rll}\n",
    "  \\text{maximizar:} & f(\\vec{x}) = \\sum_{i=1}^{n} p_i \\cdot x_{i} &  \\\\\n",
    "  \\text{tal que} & g_1(\\vec{x}) = \\sum_{i=1}^{n} w_i \\cdot x_{i}  \\leq c &  \\\\\n",
    "          &  x_i \\in \\{0,1\\} & i\\in\\{1,\\ldots,n\\}\\\\\n",
    "  \\end{array}\n",
    "\\end{equation}"
   ]
  },
  {
   "cell_type": "markdown",
   "metadata": {},
   "source": [
    "Para este ejemplo, consideremos que se tienen $n=5$ objetos. Donde cada objeto tiene los siguientes valores $p=[5,14,7,2,23]$ y los siguientes pesos $w = [ 2, 3, 7, 5, 10 ]$. Además la mochila tiene una capacidad $c = 15$."
   ]
  },
  {
   "cell_type": "markdown",
   "metadata": {},
   "source": [
    "## Principales componentes de BT"
   ]
  },
  {
   "cell_type": "markdown",
   "metadata": {},
   "source": [
    "Librerías de Python que vamos a utilizar."
   ]
  },
  {
   "cell_type": "code",
   "execution_count": 1,
   "metadata": {},
   "outputs": [],
   "source": [
    "import numpy\n",
    "import math"
   ]
  },
  {
   "cell_type": "markdown",
   "metadata": {},
   "source": [
    "Datos de entrada."
   ]
  },
  {
   "cell_type": "code",
   "execution_count": 2,
   "metadata": {},
   "outputs": [],
   "source": [
    "n=5\n",
    "p = [5,14,7,2,23]\n",
    "w = [2,3,7,5,10]\n",
    "c = 15"
   ]
  },
  {
   "cell_type": "markdown",
   "metadata": {},
   "source": [
    "### Representación de una solución"
   ]
  },
  {
   "cell_type": "markdown",
   "metadata": {},
   "source": [
    "Cada solución es una cadena binaria de tamaño 5. Para facilitar la implementación en Python, lo tomaremos como una lista de 0's y 1's. Por ejemplo, la solución x='11001' es almacenada como:"
   ]
  },
  {
   "cell_type": "code",
   "execution_count": 3,
   "metadata": {},
   "outputs": [],
   "source": [
    "x = [1,1,0,0,1]"
   ]
  },
  {
   "cell_type": "markdown",
   "metadata": {},
   "source": [
    "### Solución inicial"
   ]
  },
  {
   "cell_type": "markdown",
   "metadata": {},
   "source": [
    "Mientras no se exceda la capacidad de la mochila, se van introduciendo de manera aleatoria objetos a la mochila."
   ]
  },
  {
   "cell_type": "code",
   "execution_count": 4,
   "metadata": {},
   "outputs": [],
   "source": [
    "def getInitialSolution(n, p, w, c):\n",
    "    #Ningún objeto está en la mochila\n",
    "    x = [0 for i in range(n)]\n",
    "    weight_x = 0\n",
    "    \n",
    "    #Aleatoriamente elegimos el orden en el que intentaremos introducir \n",
    "    #los objetos a la mochila\n",
    "    objects = list(range(n))\n",
    "    numpy.random.shuffle(objects)\n",
    "    \n",
    "    for o in objects:\n",
    "        #Intentamos introducir el objeto \"o\" a la mochila\n",
    "        if weight_x + w[o] <= c:\n",
    "            x[o] = 1\n",
    "            weight_x += w[o]\n",
    "            \n",
    "    return x"
   ]
  },
  {
   "cell_type": "code",
   "execution_count": 5,
   "metadata": {},
   "outputs": [
    {
     "data": {
      "text/plain": [
       "[0, 0, 0, 1, 1]"
      ]
     },
     "execution_count": 5,
     "metadata": {},
     "output_type": "execute_result"
    }
   ],
   "source": [
    "x_0 = getInitialSolution(n, p, w, c)\n",
    "x_0"
   ]
  },
  {
   "cell_type": "markdown",
   "metadata": {},
   "source": [
    "### Función objetivo"
   ]
  },
  {
   "cell_type": "code",
   "execution_count": 6,
   "metadata": {},
   "outputs": [],
   "source": [
    "def f(p, x):\n",
    "    profits = 0\n",
    "    for i in range(len(x)):\n",
    "        profits += p[i]*x[i]\n",
    "        \n",
    "    return profits"
   ]
  },
  {
   "cell_type": "code",
   "execution_count": 7,
   "metadata": {},
   "outputs": [
    {
     "name": "stdout",
     "output_type": "stream",
     "text": [
      "f(x): \t 42\n",
      "f(x_0):  25\n"
     ]
    }
   ],
   "source": [
    "print (\"f(x): \\t\", f(p, x))\n",
    "print (\"f(x_0): \", f(p, x_0))"
   ]
  },
  {
   "cell_type": "markdown",
   "metadata": {},
   "source": [
    "### Restricción"
   ]
  },
  {
   "cell_type": "code",
   "execution_count": 8,
   "metadata": {},
   "outputs": [],
   "source": [
    "def g1(w, x):\n",
    "    weight = 0\n",
    "    for i in range(len(x)):\n",
    "        weight += w[i]*x[i]\n",
    "        \n",
    "    return weight"
   ]
  },
  {
   "cell_type": "code",
   "execution_count": 9,
   "metadata": {},
   "outputs": [
    {
     "name": "stdout",
     "output_type": "stream",
     "text": [
      "g1(w, x): \t 15\n",
      "g1(w, x_o): \t 15\n"
     ]
    }
   ],
   "source": [
    "print (\"g1(w, x): \\t\", g1(w, x))\n",
    "print (\"g1(w, x_o): \\t\", g1(w, x_0))"
   ]
  },
  {
   "cell_type": "markdown",
   "metadata": {},
   "source": [
    "### Movimiento"
   ]
  },
  {
   "cell_type": "markdown",
   "metadata": {},
   "source": [
    "Altera el valor del elemento ubicado en la posición $i$ de nuestra solución $x$."
   ]
  },
  {
   "cell_type": "code",
   "execution_count": 11,
   "metadata": {},
   "outputs": [],
   "source": [
    "def bitflip(x, i):\n",
    "    x_new = x.copy()\n",
    "    if x[i] == 0:\n",
    "        x_new[i] = 1\n",
    "    else:\n",
    "        x_new[i] = 0\n",
    "    \n",
    "    return x_new"
   ]
  },
  {
   "cell_type": "code",
   "execution_count": 12,
   "metadata": {},
   "outputs": [
    {
     "name": "stdout",
     "output_type": "stream",
     "text": [
      "x: \t [1, 1, 0, 0, 1]\n",
      "x_new: \t [1, 1, 1, 0, 1]\n"
     ]
    }
   ],
   "source": [
    "print(\"x: \\t\", x)\n",
    "x_new = bitflip(x, 2)\n",
    "print(\"x_new: \\t\", x_new)"
   ]
  },
  {
   "cell_type": "markdown",
   "metadata": {},
   "source": [
    "### Vecindario"
   ]
  },
  {
   "cell_type": "markdown",
   "metadata": {},
   "source": [
    "El vecindario está definido como movimientos \"bitflip\" en cada una de las variables de la solución, teniendo en cuenta que solamente las soluciones factibles pueden ser parte del vecindario. En Python vamos a implementar el vecindario como una lista de listas, donde cada lista interna almacena una solución y su valor tanto de la función objetivo como de la restricción."
   ]
  },
  {
   "cell_type": "code",
   "execution_count": 15,
   "metadata": {},
   "outputs": [],
   "source": [
    "def getNeighborhood(p, w, x, c):\n",
    "    neighborhood = []\n",
    "    for i in range(len(x)):\n",
    "        x_new = bitflip(x, i)\n",
    "        g1_x_new = g1(w, x_new)\n",
    "        #Si la solución creada es factible, la metemos al vecindario\n",
    "        if g1_x_new <= c:\n",
    "            neighborhood.append([x_new, f(p, x_new), g1_x_new, i])\n",
    "    \n",
    "    return neighborhood"
   ]
  },
  {
   "cell_type": "code",
   "execution_count": 16,
   "metadata": {},
   "outputs": [
    {
     "name": "stdout",
     "output_type": "stream",
     "text": [
      "Vecindario de  [1, 1, 0, 0, 1]\n"
     ]
    },
    {
     "data": {
      "text/plain": [
       "[[[0, 1, 0, 0, 1], 37, 13, 0],\n",
       " [[1, 0, 0, 0, 1], 28, 12, 1],\n",
       " [[1, 1, 0, 0, 0], 19, 5, 4]]"
      ]
     },
     "execution_count": 16,
     "metadata": {},
     "output_type": "execute_result"
    }
   ],
   "source": [
    "print(\"Vecindario de \", x)\n",
    "getNeighborhood(p, w, x, c)"
   ]
  },
  {
   "cell_type": "markdown",
   "metadata": {},
   "source": [
    "Es importante mencionar que para instancias grandes del problema (n's grandes) se debe cuidar la eficiencia. Por ejemplo, no es necesario recalcular completamente los valores de la función objetivo y la restricción de cada solución nueva. Se puede obtener a partir de la solución base y el cambio realizado."
   ]
  },
  {
   "cell_type": "markdown",
   "metadata": {},
   "source": [
    "### Lista tabú"
   ]
  },
  {
   "cell_type": "markdown",
   "metadata": {},
   "source": [
    "La lista tabú va a almacenar los valores que no son permitidos en ciertas posiciones de la solución y su \"tiempo tabú\". En Python utilizaremos un diccionario para guardar los elementos tabú. La llave del diccionario será la posición $p$ y va estar asociada con el valor $v$ que está prohibido en esa posición y con su tiempo tabú $t$. El siguiente ejemplo indica que en la posición $1$ no puede haber un valor de $0$ durante las próximas $2$ iteraciones."
   ]
  },
  {
   "cell_type": "code",
   "execution_count": 17,
   "metadata": {},
   "outputs": [
    {
     "name": "stdout",
     "output_type": "stream",
     "text": [
      "{1: [0, 2]}\n"
     ]
    }
   ],
   "source": [
    "tabu_list = {}\n",
    "tabu_list[1] = [0, 2]\n",
    "print (tabu_list)"
   ]
  },
  {
   "cell_type": "markdown",
   "metadata": {},
   "source": [
    "La lista tabú se va a modificar cada iteración actualizando el tiempo tabú de los elementos que ya se encontraban en ella y añadiendo un nuevo elemento."
   ]
  },
  {
   "cell_type": "code",
   "execution_count": 18,
   "metadata": {},
   "outputs": [],
   "source": [
    "def updateTabuList(new_element, tabu_list):\n",
    "    aux = []\n",
    "    \n",
    "    #Disminuimos en 1 el tiempo tabú de los elementos que ya estaban en la \n",
    "    #lista tabú\n",
    "    for key in tabu_list:\n",
    "        tabu_list[key][1] -= 1\n",
    "        if tabu_list[key][1] == 0:\n",
    "            aux.append(key)\n",
    "    \n",
    "    #Sacamos de la lista tabú los elementos con tiempo tabú igual con 0\n",
    "    for key in aux:\n",
    "        tabu_list.pop(key)\n",
    "        \n",
    "    #Agregamos el nuevo elemento a la lista tabú    \n",
    "    tabu_list[new_element[0]] = [new_element[1], new_element[2]]"
   ]
  },
  {
   "cell_type": "code",
   "execution_count": 19,
   "metadata": {},
   "outputs": [
    {
     "name": "stdout",
     "output_type": "stream",
     "text": [
      "{1: [0, 2]}\n",
      "{1: [0, 1], 3: [1, 2]}\n",
      "{3: [1, 1], 2: [0, 2]}\n"
     ]
    }
   ],
   "source": [
    "print(tabu_list)\n",
    "tabu_element = [3,1,2]\n",
    "updateTabuList(tabu_element, tabu_list)\n",
    "print(tabu_list)\n",
    "tabu_element = [2,0,2]\n",
    "updateTabuList(tabu_element, tabu_list)\n",
    "print(tabu_list)"
   ]
  },
  {
   "cell_type": "markdown",
   "metadata": {},
   "source": [
    "### Vecindario reducido"
   ]
  },
  {
   "cell_type": "markdown",
   "metadata": {},
   "source": [
    "El vecindario reducido se define como el conjunto de soluciones resultante de quitar del vecindario las soluciones generadas a partir de movimientos que se encuentran en la lista tabú."
   ]
  },
  {
   "cell_type": "code",
   "execution_count": 85,
   "metadata": {},
   "outputs": [],
   "source": [
    "def getReducedNeighborhood(x, tabu_list, p, w, c):\n",
    "    neighborhood = []\n",
    "    for i in range(len(x)):\n",
    "        '''Si no está prohibido cambiar el valor de la posición i, \n",
    "        creamos una nueva solución haciendo bitflip en la posición i'''\n",
    "        if i not in tabu_list:\n",
    "            x_new = bitflip(x, i)\n",
    "            g1_x_new = g1(w, x_new)\n",
    "            #Si la solución creada es factible, la metemos al vecindario\n",
    "            if g1_x_new <= c:\n",
    "                neighborhood.append([x_new, f(p, x_new), g1_x_new, i])\n",
    "    \n",
    "    return neighborhood"
   ]
  },
  {
   "cell_type": "markdown",
   "metadata": {},
   "source": [
    "## Algoritmo completo de una BT simple"
   ]
  },
  {
   "cell_type": "code",
   "execution_count": 86,
   "metadata": {},
   "outputs": [],
   "source": [
    "#Obtenemos el índice de la mejor solución en el vecindario\n",
    "def getIndexBestNeighbor(neighborhood):\n",
    "    best = 0\n",
    "    for i in range(1, len(neighborhood)):\n",
    "        if neighborhood[i][1] >= neighborhood[best][1]:\n",
    "            best = i\n",
    "            \n",
    "    return best"
   ]
  },
  {
   "cell_type": "code",
   "execution_count": 87,
   "metadata": {},
   "outputs": [],
   "source": [
    "#Búsqueda tabú simple para el problema de la mochila binario\n",
    "def TabuSearch(num_ite, n, p, w, c):\n",
    "    #Obtenemos la solución inicial\n",
    "    x = getInitialSolution(n, p, w, c)\n",
    "    f_x = f(p, x)\n",
    "    g_x = g1(w, x)\n",
    "    \n",
    "    #Hasta ahora la solución inicial es la mejor solución que se conoce\n",
    "    x_best, f_best, g_best = x.copy(), f_x, g_x\n",
    "    \n",
    "    #Iniciamos con nuestra lista tabú vacía\n",
    "    tabu_list = {}\n",
    "    \n",
    "    #Definimos el tiempo tabú\n",
    "    tabu_time = n//2\n",
    "    \n",
    "    for k in range(num_ite):\n",
    "        #Obtenemos nuestro vecindario reducido\n",
    "        neighborhood =  getReducedNeighborhood(x, tabu_list, p, w, c)\n",
    "        #Si nuestro vecindario está vacío, ya no podemos movernos a otra \n",
    "        #solución y debemos terminar la búsqueda\n",
    "        if len(neighborhood) == 0:\n",
    "            break\n",
    "        \n",
    "        #Nuestra siguiente solución es la mejor del vecindario\n",
    "        best_neighbor = getIndexBestNeighbor(neighborhood)\n",
    "        x = neighborhood[best_neighbor][0]\n",
    "        f_x = neighborhood[best_neighbor][1]\n",
    "        g_x = neighborhood[best_neighbor][2]\n",
    "        \n",
    "        #Verificamos si la nueva solución es mejor que lo que conocemos\n",
    "        if f_x >= f_best:\n",
    "            x_best, f_best, g_best = x.copy(), f_x, g_x\n",
    "        \n",
    "        #Actualizamos la lista tabú\n",
    "        i = neighborhood[best_neighbor][3]\n",
    "        tabu_element = [i, x[i], tabu_time]\n",
    "        updateTabuList(tabu_element, tabu_list)\n",
    "        \n",
    "    return x_best, f_best, g_best\n",
    "        "
   ]
  },
  {
   "cell_type": "code",
   "execution_count": 88,
   "metadata": {},
   "outputs": [],
   "source": [
    "def printSolution(x, f, g):\n",
    "    print(\"f(x) = \", f, \"\\tg(x) = \", g)\n",
    "    step = 25\n",
    "    print(\"x = \\n[\", end=\"\")\n",
    "    for i in range(len(x)-1):\n",
    "        if i != 0 and i % step == 0:\n",
    "            print()\n",
    "        print(x[i], end=', ')\n",
    "    print(x[-1], \"]\")\n",
    "        "
   ]
  },
  {
   "cell_type": "code",
   "execution_count": 89,
   "metadata": {},
   "outputs": [
    {
     "name": "stdout",
     "output_type": "stream",
     "text": [
      "f(x) =  42 \tg(x) =  15\n",
      "x = \n",
      "[1, 1, 0, 0, 1 ]\n"
     ]
    }
   ],
   "source": [
    "n=5\n",
    "p = [5,14,7,2,23]\n",
    "w = [2,3,7,5,10]\n",
    "c = 15\n",
    "num_ite = 50\n",
    "\n",
    "x_best, f_best, g_best = TabuSearch(num_ite, n, p, w, c)\n",
    "printSolution(x_best, f_best, g_best)\n"
   ]
  },
  {
   "cell_type": "markdown",
   "metadata": {},
   "source": [
    "Ejecutamos para una instancia aleatoria más grande del problema."
   ]
  },
  {
   "cell_type": "code",
   "execution_count": 90,
   "metadata": {},
   "outputs": [
    {
     "name": "stdout",
     "output_type": "stream",
     "text": [
      "Arreglo con valores de cada objeto: \n",
      " [47 59 37 63 68 71 99 38 99 38 78 33 89 63 74 92 32 78 31 89 73 92 38 30\n",
      " 38 30 66 68 45 30 72 73 41 51 88 65 85 76 65 40 67 62 96 68 30 81 67 42\n",
      " 53 97]\n",
      "Arreglo con pesos de cada objeto: \n",
      " [38 24 35 34 37 35 29 24 35 34 32 37 34 37 33 34 22 39 36 32 38 26 24 29\n",
      " 20 32 26 39 29 22 22 33 22 24 21 23 22 32 39 38 38 37 34 27 34 22 29 37\n",
      " 30 31]\n",
      "Capacidad de la mochila:  1337\n",
      "Ejecución 1:\n",
      "f(x) =  2891 \tg(x) =  1329\n",
      "x = \n",
      "[1, 1, 1, 1, 1, 1, 1, 1, 1, 1, 1, 0, 1, 1, 1, 1, 0, 1, 0, 1, 1, 1, 1, 0, 1, \n",
      "0, 1, 1, 1, 0, 1, 1, 1, 1, 1, 1, 1, 1, 1, 1, 1, 1, 1, 1, 0, 1, 1, 1, 1, 1 ]\n"
     ]
    }
   ],
   "source": [
    "n=50\n",
    "profits = list(range(30, 100))\n",
    "weights = list(range(20, 40))\n",
    "\n",
    "p = numpy.random.choice(profits, n)\n",
    "print(\"Arreglo con valores de cada objeto: \\n\", p)\n",
    "w = numpy.random.choice(weights, n)\n",
    "print(\"Arreglo con pesos de cada objeto: \\n\", w)\n",
    "c = numpy.random.randint((30*n)//2, 30*n)\n",
    "print(\"Capacidad de la mochila: \", c)\n",
    "num_ite = 1000\n",
    "\n",
    "print(\"Ejecución 1:\")\n",
    "x_best, f_best, g_best = TabuSearch(num_ite, n, p, w, c)\n",
    "printSolution(x_best, f_best, g_best)"
   ]
  },
  {
   "cell_type": "markdown",
   "metadata": {},
   "source": [
    "Realizamos $m$ ejecuciones de nuestro algoritmo y obtenemos la corrida que encontró la mejor solución, la corrida que encontró la peor solución, la media y la desviación estándar de las $m$ corridas con respecto al valor de la función objetivo."
   ]
  },
  {
   "cell_type": "code",
   "execution_count": 94,
   "metadata": {},
   "outputs": [
    {
     "name": "stdout",
     "output_type": "stream",
     "text": [
      "Ejecución  0 : \n",
      "f(x) =  2911 \tg(x) =  1336\n",
      "x = \n",
      "[1, 1, 1, 1, 1, 1, 1, 1, 1, 1, 1, 0, 1, 1, 1, 1, 1, 1, 0, 1, 1, 1, 1, 0, 1, \n",
      "0, 1, 1, 1, 1, 1, 1, 1, 1, 1, 1, 1, 1, 1, 1, 1, 1, 1, 1, 0, 1, 1, 0, 1, 1 ]\n",
      "Ejecución  1 : \n",
      "f(x) =  2891 \tg(x) =  1329\n",
      "x = \n",
      "[1, 1, 1, 1, 1, 1, 1, 1, 1, 1, 1, 0, 1, 1, 1, 1, 0, 1, 0, 1, 1, 1, 1, 0, 1, \n",
      "0, 1, 1, 1, 0, 1, 1, 1, 1, 1, 1, 1, 1, 1, 1, 1, 1, 1, 1, 0, 1, 1, 1, 1, 1 ]\n",
      "Ejecución  2 : \n",
      "f(x) =  2891 \tg(x) =  1329\n",
      "x = \n",
      "[1, 1, 1, 1, 1, 1, 1, 1, 1, 1, 1, 0, 1, 1, 1, 1, 0, 1, 0, 1, 1, 1, 1, 0, 1, \n",
      "0, 1, 1, 1, 0, 1, 1, 1, 1, 1, 1, 1, 1, 1, 1, 1, 1, 1, 1, 0, 1, 1, 1, 1, 1 ]\n",
      "Ejecución  3 : \n",
      "f(x) =  2891 \tg(x) =  1329\n",
      "x = \n",
      "[1, 1, 1, 1, 1, 1, 1, 1, 1, 1, 1, 0, 1, 1, 1, 1, 0, 1, 0, 1, 1, 1, 1, 0, 1, \n",
      "0, 1, 1, 1, 0, 1, 1, 1, 1, 1, 1, 1, 1, 1, 1, 1, 1, 1, 1, 0, 1, 1, 1, 1, 1 ]\n",
      "Ejecución  4 : \n",
      "f(x) =  2891 \tg(x) =  1329\n",
      "x = \n",
      "[1, 1, 1, 1, 1, 1, 1, 1, 1, 1, 1, 0, 1, 1, 1, 1, 0, 1, 0, 1, 1, 1, 1, 0, 1, \n",
      "0, 1, 1, 1, 0, 1, 1, 1, 1, 1, 1, 1, 1, 1, 1, 1, 1, 1, 1, 0, 1, 1, 1, 1, 1 ]\n",
      "Ejecución  5 : \n",
      "f(x) =  2891 \tg(x) =  1329\n",
      "x = \n",
      "[1, 1, 1, 1, 1, 1, 1, 1, 1, 1, 1, 0, 1, 1, 1, 1, 0, 1, 0, 1, 1, 1, 1, 0, 1, \n",
      "0, 1, 1, 1, 0, 1, 1, 1, 1, 1, 1, 1, 1, 1, 1, 1, 1, 1, 1, 0, 1, 1, 1, 1, 1 ]\n",
      "Ejecución  6 : \n",
      "f(x) =  2891 \tg(x) =  1329\n",
      "x = \n",
      "[1, 1, 1, 1, 1, 1, 1, 1, 1, 1, 1, 0, 1, 1, 1, 1, 0, 1, 0, 1, 1, 1, 1, 0, 1, \n",
      "0, 1, 1, 1, 0, 1, 1, 1, 1, 1, 1, 1, 1, 1, 1, 1, 1, 1, 1, 0, 1, 1, 1, 1, 1 ]\n",
      "Ejecución  7 : \n",
      "f(x) =  2891 \tg(x) =  1329\n",
      "x = \n",
      "[1, 1, 1, 1, 1, 1, 1, 1, 1, 1, 1, 0, 1, 1, 1, 1, 0, 1, 0, 1, 1, 1, 1, 0, 1, \n",
      "0, 1, 1, 1, 0, 1, 1, 1, 1, 1, 1, 1, 1, 1, 1, 1, 1, 1, 1, 0, 1, 1, 1, 1, 1 ]\n",
      "Ejecución  8 : \n",
      "f(x) =  2891 \tg(x) =  1329\n",
      "x = \n",
      "[1, 1, 1, 1, 1, 1, 1, 1, 1, 1, 1, 0, 1, 1, 1, 1, 0, 1, 0, 1, 1, 1, 1, 0, 1, \n",
      "0, 1, 1, 1, 0, 1, 1, 1, 1, 1, 1, 1, 1, 1, 1, 1, 1, 1, 1, 0, 1, 1, 1, 1, 1 ]\n",
      "Ejecución  9 : \n",
      "f(x) =  2891 \tg(x) =  1329\n",
      "x = \n",
      "[1, 1, 1, 1, 1, 1, 1, 1, 1, 1, 1, 0, 1, 1, 1, 1, 0, 1, 0, 1, 1, 1, 1, 0, 1, \n",
      "0, 1, 1, 1, 0, 1, 1, 1, 1, 1, 1, 1, 1, 1, 1, 1, 1, 1, 1, 0, 1, 1, 1, 1, 1 ]\n",
      "Ejecución  10 : \n",
      "f(x) =  2891 \tg(x) =  1329\n",
      "x = \n",
      "[1, 1, 1, 1, 1, 1, 1, 1, 1, 1, 1, 0, 1, 1, 1, 1, 0, 1, 0, 1, 1, 1, 1, 0, 1, \n",
      "0, 1, 1, 1, 0, 1, 1, 1, 1, 1, 1, 1, 1, 1, 1, 1, 1, 1, 1, 0, 1, 1, 1, 1, 1 ]\n",
      "Ejecución  11 : \n",
      "f(x) =  2891 \tg(x) =  1329\n",
      "x = \n",
      "[1, 1, 1, 1, 1, 1, 1, 1, 1, 1, 1, 0, 1, 1, 1, 1, 0, 1, 0, 1, 1, 1, 1, 0, 1, \n",
      "0, 1, 1, 1, 0, 1, 1, 1, 1, 1, 1, 1, 1, 1, 1, 1, 1, 1, 1, 0, 1, 1, 1, 1, 1 ]\n",
      "Ejecución  12 : \n",
      "f(x) =  2886 \tg(x) =  1316\n",
      "x = \n",
      "[1, 1, 0, 1, 1, 1, 1, 1, 1, 1, 1, 0, 1, 1, 1, 1, 1, 1, 0, 1, 1, 1, 1, 0, 1, \n",
      "0, 1, 1, 1, 0, 1, 1, 1, 1, 1, 1, 1, 1, 1, 1, 1, 1, 1, 1, 0, 1, 1, 1, 1, 1 ]\n",
      "Ejecución  13 : \n",
      "f(x) =  2891 \tg(x) =  1329\n",
      "x = \n",
      "[1, 1, 1, 1, 1, 1, 1, 1, 1, 1, 1, 0, 1, 1, 1, 1, 0, 1, 0, 1, 1, 1, 1, 0, 1, \n",
      "0, 1, 1, 1, 0, 1, 1, 1, 1, 1, 1, 1, 1, 1, 1, 1, 1, 1, 1, 0, 1, 1, 1, 1, 1 ]\n",
      "Ejecución  14 : \n",
      "f(x) =  2891 \tg(x) =  1329\n",
      "x = \n",
      "[1, 1, 1, 1, 1, 1, 1, 1, 1, 1, 1, 0, 1, 1, 1, 1, 0, 1, 0, 1, 1, 1, 1, 0, 1, \n",
      "0, 1, 1, 1, 0, 1, 1, 1, 1, 1, 1, 1, 1, 1, 1, 1, 1, 1, 1, 0, 1, 1, 1, 1, 1 ]\n",
      "Ejecución  15 : \n",
      "f(x) =  2891 \tg(x) =  1329\n",
      "x = \n",
      "[1, 1, 1, 1, 1, 1, 1, 1, 1, 1, 1, 0, 1, 1, 1, 1, 0, 1, 0, 1, 1, 1, 1, 0, 1, \n",
      "0, 1, 1, 1, 0, 1, 1, 1, 1, 1, 1, 1, 1, 1, 1, 1, 1, 1, 1, 0, 1, 1, 1, 1, 1 ]\n",
      "Ejecución  16 : \n",
      "f(x) =  2891 \tg(x) =  1329\n",
      "x = \n",
      "[1, 1, 1, 1, 1, 1, 1, 1, 1, 1, 1, 0, 1, 1, 1, 1, 0, 1, 0, 1, 1, 1, 1, 0, 1, \n",
      "0, 1, 1, 1, 0, 1, 1, 1, 1, 1, 1, 1, 1, 1, 1, 1, 1, 1, 1, 0, 1, 1, 1, 1, 1 ]\n",
      "Ejecución  17 : \n",
      "f(x) =  2891 \tg(x) =  1329\n",
      "x = \n",
      "[1, 1, 1, 1, 1, 1, 1, 1, 1, 1, 1, 0, 1, 1, 1, 1, 0, 1, 0, 1, 1, 1, 1, 0, 1, \n",
      "0, 1, 1, 1, 0, 1, 1, 1, 1, 1, 1, 1, 1, 1, 1, 1, 1, 1, 1, 0, 1, 1, 1, 1, 1 ]\n",
      "Ejecución  18 : \n",
      "f(x) =  2891 \tg(x) =  1329\n",
      "x = \n",
      "[1, 1, 1, 1, 1, 1, 1, 1, 1, 1, 1, 0, 1, 1, 1, 1, 0, 1, 0, 1, 1, 1, 1, 0, 1, \n",
      "0, 1, 1, 1, 0, 1, 1, 1, 1, 1, 1, 1, 1, 1, 1, 1, 1, 1, 1, 0, 1, 1, 1, 1, 1 ]\n",
      "Ejecución  19 : \n",
      "f(x) =  2891 \tg(x) =  1329\n",
      "x = \n",
      "[1, 1, 1, 1, 1, 1, 1, 1, 1, 1, 1, 0, 1, 1, 1, 1, 0, 1, 0, 1, 1, 1, 1, 0, 1, \n",
      "0, 1, 1, 1, 0, 1, 1, 1, 1, 1, 1, 1, 1, 1, 1, 1, 1, 1, 1, 0, 1, 1, 1, 1, 1 ]\n",
      "Ejecución  20 : \n",
      "f(x) =  2891 \tg(x) =  1329\n",
      "x = \n",
      "[1, 1, 1, 1, 1, 1, 1, 1, 1, 1, 1, 0, 1, 1, 1, 1, 0, 1, 0, 1, 1, 1, 1, 0, 1, \n",
      "0, 1, 1, 1, 0, 1, 1, 1, 1, 1, 1, 1, 1, 1, 1, 1, 1, 1, 1, 0, 1, 1, 1, 1, 1 ]\n",
      "*************** Mejor solución ***************\n",
      "f(x) =  2911 \tg(x) =  1336\n",
      "x = \n",
      "[1, 1, 1, 1, 1, 1, 1, 1, 1, 1, 1, 0, 1, 1, 1, 1, 1, 1, 0, 1, 1, 1, 1, 0, 1, \n",
      "0, 1, 1, 1, 1, 1, 1, 1, 1, 1, 1, 1, 1, 1, 1, 1, 1, 1, 1, 0, 1, 1, 0, 1, 1 ]\n",
      "*************** Peor solución ****************\n",
      "f(x) =  2886 \tg(x) =  1316\n",
      "x = \n",
      "[1, 1, 0, 1, 1, 1, 1, 1, 1, 1, 1, 0, 1, 1, 1, 1, 1, 1, 0, 1, 1, 1, 1, 0, 1, \n",
      "0, 1, 1, 1, 0, 1, 1, 1, 1, 1, 1, 1, 1, 1, 1, 1, 1, 1, 1, 0, 1, 1, 1, 1, 1 ]\n",
      "****************** Mediana *******************\n",
      "f(x) =  2891 \tg(x) =  1329\n",
      "x = \n",
      "[1, 1, 1, 1, 1, 1, 1, 1, 1, 1, 1, 0, 1, 1, 1, 1, 0, 1, 0, 1, 1, 1, 1, 0, 1, \n",
      "0, 1, 1, 1, 0, 1, 1, 1, 1, 1, 1, 1, 1, 1, 1, 1, 1, 1, 1, 0, 1, 1, 1, 1, 1 ]\n",
      "Media:  2891.714285714286\n",
      "Desviación estándar:  4.4416090728994355\n"
     ]
    }
   ],
   "source": [
    "m=21\n",
    "sol = []\n",
    "for i in range(m):\n",
    "    print(\"Ejecución \", i, \": \")\n",
    "    x_best, f_best, g_best = TabuSearch(num_ite, n, p, w, c)\n",
    "    sol.append([f_best, g_best, x_best])\n",
    "    printSolution(x_best, f_best, g_best)\n",
    "    \n",
    "sol.sort()\n",
    "print(\"*************** Mejor solución ***************\")\n",
    "printSolution(sol[-1][2], sol[-1][0], sol[-1][1])\n",
    "\n",
    "print(\"*************** Peor solución ****************\")\n",
    "printSolution(sol[0][2], sol[0][0], sol[0][1])\n",
    "\n",
    "print(\"****************** Mediana *******************\")\n",
    "med = m//2\n",
    "printSolution(sol[med][2], sol[med][0], sol[med][1])\n",
    "\n",
    "f_sol = [x[0] for x in sol]\n",
    "print(\"Media: \", numpy.mean(f_sol))\n",
    "print(\"Desviación estándar: \", numpy.std(f_sol))"
   ]
  },
  {
   "cell_type": "code",
   "execution_count": null,
   "metadata": {},
   "outputs": [],
   "source": []
  }
 ],
 "metadata": {
  "kernelspec": {
   "display_name": "Python 3",
   "language": "python",
   "name": "python3"
  },
  "language_info": {
   "codemirror_mode": {
    "name": "ipython",
    "version": 3
   },
   "file_extension": ".py",
   "mimetype": "text/x-python",
   "name": "python",
   "nbconvert_exporter": "python",
   "pygments_lexer": "ipython3",
   "version": "3.6.3"
  }
 },
 "nbformat": 4,
 "nbformat_minor": 2
}
