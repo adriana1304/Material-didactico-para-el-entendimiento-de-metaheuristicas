{
 "cells": [
  {
   "cell_type": "markdown",
   "metadata": {},
   "source": [
    "# Ejemplo: Recocido Simulado (RS)"
   ]
  },
  {
   "cell_type": "markdown",
   "metadata": {},
   "source": [
    "## Problema del agente viajero"
   ]
  },
  {
   "cell_type": "markdown",
   "metadata": {},
   "source": [
    "El problema del agente viajero (Travelling salesman problem) considera un conjunto finito de $n$ ciudades y la distancia entre cada par de ellas. El objetivo es encontrar el camino más corto que visite cada ciudad exactamente una vez y regrese a la ciudad de origen. Formalmente se define como sigue:\n",
    "\n",
    "\\begin{equation}\n",
    "    \\label{eq:TSP}\n",
    "    \\begin{array}{rll}\n",
    "    \\text{minimizar:} & f(x) = d(x_n, x_1) + \\sum_{i=1}^{n-1} d(x_i, x_{i+1}) &  \\\\\n",
    "    \\text{tal que} & x_i \\in \\{1,2,\\cdots,n\\} & \\\\\n",
    "    \\end{array}\n",
    "\\end{equation}\n",
    "\n",
    "\n",
    "donde $d(x_i, x_j)$ es la distancia de ir de la ciudad $x_i$ a la ciudad $x_j$, $n$ es el número de ciudades y $x$ es una permutación de las $n$ ciudades."
   ]
  },
  {
   "cell_type": "markdown",
   "metadata": {},
   "source": [
    "## Principales componentes de RS"
   ]
  },
  {
   "cell_type": "markdown",
   "metadata": {},
   "source": [
    "Librerías de Python que vamos a utilizar."
   ]
  },
  {
   "cell_type": "code",
   "execution_count": 81,
   "metadata": {},
   "outputs": [],
   "source": [
    "import numpy\n",
    "import math"
   ]
  },
  {
   "cell_type": "markdown",
   "metadata": {},
   "source": [
    "Datos de entrada."
   ]
  },
  {
   "cell_type": "code",
   "execution_count": 82,
   "metadata": {},
   "outputs": [],
   "source": [
    "n = 5\n",
    "dist_matrix = [\n",
    "                [0,49,30,53,72],\n",
    "                [49,0,19,38,32],\n",
    "                [30,19,0,41,98],\n",
    "                [53,38,41,0,52],\n",
    "                [72,32,98,52,0],\n",
    "               ]"
   ]
  },
  {
   "cell_type": "markdown",
   "metadata": {},
   "source": [
    "### Representación de una solución"
   ]
  },
  {
   "cell_type": "markdown",
   "metadata": {},
   "source": [
    "Cada solución es una permutación de las $n$ ciudades. En Python será una lista de $n$ elementos. Nombraremos a las ciudades como $0$, $1$, $\\cdots$, $n-1$ para que coincidan con los índices de nuestra lista. El primer elemento siempre será $0$ porque es la ciudad de partida. "
   ]
  },
  {
   "cell_type": "code",
   "execution_count": 83,
   "metadata": {},
   "outputs": [],
   "source": [
    "x = [0,4,2,1,3]"
   ]
  },
  {
   "cell_type": "markdown",
   "metadata": {},
   "source": [
    "### Solución inicial"
   ]
  },
  {
   "cell_type": "markdown",
   "metadata": {},
   "source": [
    "Utilizaremos una estrategia voraz: Empezamos en la ciudad $0$, posteriormente revisamos las 4 ciudades restantes y elegimos la que tenga una distancia menor a la ciudad $0$. Repitemos el proceso hasta tener nuestra permutación."
   ]
  },
  {
   "cell_type": "code",
   "execution_count": 84,
   "metadata": {},
   "outputs": [],
   "source": [
    "def getNextCity(x, dist_matrix, n):\n",
    "    current_city = x[-1]\n",
    "    min_dist = max(dist_matrix[current_city])\n",
    "    \n",
    "    for i in range(1, n):\n",
    "        if (i not in x) and (dist_matrix[current_city][i] < min_dist):\n",
    "            min_city = i\n",
    "            min_dist = dist_matrix[current_city][i]\n",
    "    \n",
    "    return min_city\n",
    "\n",
    "def getInitialSolution(n, dist_matrix):\n",
    "    x = [0]\n",
    "    \n",
    "    while len(x) != n:\n",
    "        x.append(getNextCity(x, dist_matrix, n))\n",
    "        \n",
    "    return x    "
   ]
  },
  {
   "cell_type": "code",
   "execution_count": 85,
   "metadata": {},
   "outputs": [
    {
     "name": "stdout",
     "output_type": "stream",
     "text": [
      "x_0:  [0, 2, 1, 4, 3]\n"
     ]
    }
   ],
   "source": [
    "x_0 = getInitialSolution(n, dist_matrix)\n",
    "print (\"x_0: \", x_0)"
   ]
  },
  {
   "cell_type": "markdown",
   "metadata": {},
   "source": [
    "### Función objetivo"
   ]
  },
  {
   "cell_type": "code",
   "execution_count": 86,
   "metadata": {},
   "outputs": [],
   "source": [
    "def f(n, dist_matrix, x):\n",
    "    cost = dist_matrix[x[-1]][0]\n",
    "    \n",
    "    for i in range(n-1):\n",
    "        cost += dist_matrix[x[i]][x[i+1]]\n",
    "        \n",
    "    return cost"
   ]
  },
  {
   "cell_type": "code",
   "execution_count": 87,
   "metadata": {},
   "outputs": [
    {
     "name": "stdout",
     "output_type": "stream",
     "text": [
      "f(x)\t=  280\n",
      "f(x_0)\t=  186\n"
     ]
    }
   ],
   "source": [
    "print(\"f(x)\\t= \", f(n, dist_matrix, x))\n",
    "print(\"f(x_0)\\t= \", f(n, dist_matrix, x_0))"
   ]
  },
  {
   "cell_type": "markdown",
   "metadata": {},
   "source": [
    "### Vecindario"
   ]
  },
  {
   "cell_type": "markdown",
   "metadata": {},
   "source": [
    "El vecindario se genera eligiendo aleatoriamente una posición $i$ de la permutación. Posteriormente, se generan $N-2$ soluciones moviendo la ciudad que está en la posición $p$ a cualquiera de las otras posiciones posibles. En Python utilizaremos una lista de listas para almacenar el vecindario. Cada lista va a tener una permutación y su valor en la función objetivo. "
   ]
  },
  {
   "cell_type": "code",
   "execution_count": 88,
   "metadata": {},
   "outputs": [],
   "source": [
    "def getNeighborhood(x, n, dist_matrix):\n",
    "    aux_x = x.copy()\n",
    "    #Elegimos una posición aleatoria\n",
    "    i = numpy.random.randint(1, len(x))\n",
    "    print (\"Posición aleatoria: \", i)\n",
    "    city = aux_x.pop(i)\n",
    "    \n",
    "    neighborhood = []\n",
    "    for j in range(1, len(x)):\n",
    "        if j != i:\n",
    "            new_sol = aux_x.copy()\n",
    "            new_sol.insert(j, city)\n",
    "            neighborhood.append([new_sol, f(n, dist_matrix, new_sol)])\n",
    "            \n",
    "    return neighborhood"
   ]
  },
  {
   "cell_type": "code",
   "execution_count": 90,
   "metadata": {},
   "outputs": [
    {
     "name": "stdout",
     "output_type": "stream",
     "text": [
      "Solución actual:  [0, 2, 1, 4, 3]\n",
      "Posición aleatoria:  4\n",
      "Vecindario:\n",
      "[[0, 3, 2, 1, 4], 217]\n",
      "[[0, 2, 3, 1, 4], 213]\n",
      "[[0, 2, 1, 3, 4], 211]\n"
     ]
    }
   ],
   "source": [
    "print (\"Solución actual: \", x_0)\n",
    "neighborhood = getNeighborhood(x_0, n, dist_matrix)\n",
    "print (\"Vecindario:\")\n",
    "for e in neighborhood:\n",
    "    print(e)"
   ]
  },
  {
   "cell_type": "markdown",
   "metadata": {},
   "source": [
    "Dado que elegiremos de manera aleatoria una solución del vecindario, no es necesario generar todo el vecindario. Por lo tanto, crearemos una función que nos permita obtener una única solución."
   ]
  },
  {
   "cell_type": "code",
   "execution_count": 91,
   "metadata": {},
   "outputs": [],
   "source": [
    "def nextSolution(x, n, dist_matrix):\n",
    "    aux_x = x.copy()\n",
    "    #Elegimos una posición aleatoria\n",
    "    i = numpy.random.randint(1, len(x))\n",
    "    #print (\"Posición aleatoria: \", i)\n",
    "    city = aux_x.pop(i)\n",
    "    \n",
    "    #Elegimos una nueva posición\n",
    "    j = numpy.random.randint(1, len(x))\n",
    "    while i == j:\n",
    "        j = numpy.random.randint(1, len(x))\n",
    "    \n",
    "    aux_x.insert(j, city)\n",
    "            \n",
    "    return aux_x, f(n, dist_matrix, aux_x)"
   ]
  },
  {
   "cell_type": "markdown",
   "metadata": {},
   "source": [
    "### Temperatura"
   ]
  },
  {
   "cell_type": "markdown",
   "metadata": {},
   "source": [
    "Para este ejemplo vamos a utilizar una función lineal para disminuir la temperatura."
   ]
  },
  {
   "cell_type": "code",
   "execution_count": 92,
   "metadata": {},
   "outputs": [],
   "source": [
    "def updateTemperature(t):\n",
    "    return 0.9*t"
   ]
  },
  {
   "cell_type": "code",
   "execution_count": 93,
   "metadata": {},
   "outputs": [
    {
     "name": "stdout",
     "output_type": "stream",
     "text": [
      "Temperatura:  1000\n",
      "Temperatura:  900.0\n"
     ]
    }
   ],
   "source": [
    "t = 1000\n",
    "print (\"Temperatura: \", t)\n",
    "new_t = updateTemperature(t)\n",
    "print (\"Temperatura: \", new_t)"
   ]
  },
  {
   "cell_type": "markdown",
   "metadata": {},
   "source": [
    "# Algoritmo completo de un RS simple"
   ]
  },
  {
   "cell_type": "code",
   "execution_count": 94,
   "metadata": {},
   "outputs": [],
   "source": [
    "#Recocido simulado simple para el problema del agente viajero\n",
    "def SimulatedAnnealing(t_0, t_f, n, dist_matrix):\n",
    "    x_0 = getInitialSolution(n, dist_matrix)\n",
    "    x = x_0\n",
    "    fx = f(n, dist_matrix, x)\n",
    "    t = t_0\n",
    "    x_best = x.copy()\n",
    "    f_best = fx\n",
    "    \n",
    "    print(\"Solución inicial: \", x, fx)\n",
    "    while t >= t_f:\n",
    "        new_x, new_f = nextSolution(x, n, dist_matrix)\n",
    "        \n",
    "        if new_f <= f_best:\n",
    "            x_best = new_x.copy()\n",
    "            f_best = new_f\n",
    "        \n",
    "        if new_f < fx or numpy.random.random() < math.exp(-1.0*(new_f-fx)/t):\n",
    "            x = new_x\n",
    "            fx = new_f\n",
    "            \n",
    "        t = updateTemperature(t)\n",
    "        #print(x, fx)\n",
    "        \n",
    "    return x_best, f_best"
   ]
  },
  {
   "cell_type": "markdown",
   "metadata": {},
   "source": [
    "Ejecutamos el algoritmo.  "
   ]
  },
  {
   "cell_type": "code",
   "execution_count": 99,
   "metadata": {},
   "outputs": [
    {
     "name": "stdout",
     "output_type": "stream",
     "text": [
      "Solución inicial:  [0, 2, 1, 4, 3] 186\n",
      "Solución encontrada:  [0, 2, 1, 4, 3] 186\n"
     ]
    }
   ],
   "source": [
    "n = 5\n",
    "dist_matrix = \\\n",
    "[\\\n",
    "[0,49,30,53,72],\\\n",
    "[49,0,19,38,32],\\\n",
    "[30,19,0,41,98],\\\n",
    "[53,38,41,0,52],\\\n",
    "[72,32,98,52,0],\\\n",
    "]\n",
    "\n",
    "x, fx = SimulatedAnnealing(10000, 0.1, n, dist_matrix)\n",
    "print(\"Solución encontrada: \", x, fx)"
   ]
  },
  {
   "cell_type": "markdown",
   "metadata": {},
   "source": [
    "Ejecutamos para una instancia más grande del problema"
   ]
  },
  {
   "cell_type": "code",
   "execution_count": 102,
   "metadata": {},
   "outputs": [
    {
     "name": "stdout",
     "output_type": "stream",
     "text": [
      "Solución inicial:  [0, 5, 3, 8, 9, 6, 2, 7, 1, 4] 271\n",
      "Solución encontrada  [0, 5, 3, 8, 9, 6, 2, 7, 1, 4] 271\n"
     ]
    }
   ],
   "source": [
    "n = 10\n",
    "dist_matrix = \\\n",
    "[\\\n",
    "[0,49,30,53,72,19,76,87,45,48],\\\n",
    "[49,0,19,38,32,31,75,69,61,25],\\\n",
    "[30,19,0,41,98,56,6,6,45,53],\\\n",
    "[53,38,41,0,52,29,46,90,23,98],\\\n",
    "[72,32,98,52,0,63,90,69,50,82],\\\n",
    "[19,31,56,29,63,0,60,88,41,95],\\\n",
    "[76,75,6,46,90,60,0,61,92,10],\\\n",
    "[87,69,6,90,69,88,61,0,82,73],\\\n",
    "[45,61,45,23,50,41,92,82,0,5],\\\n",
    "[48,25,53,98,82,95,10,73,5,0],\\\n",
    "]\n",
    "\n",
    "x, fx = SimulatedAnnealing(100000, 0.01, n, dist_matrix)\n",
    "print(\"Solución encontrada \", x, fx)"
   ]
  },
  {
   "cell_type": "markdown",
   "metadata": {},
   "source": [
    "Realizamos $m$ ejecuciones de nuestro algoritmo y obtenemos la corrida que encontró la mejor solución, la corrida que encontró la peor solución, la media y la desviación estándar de las $m$ corridas con respecto al valor de la función objetivo."
   ]
  },
  {
   "cell_type": "code",
   "execution_count": 103,
   "metadata": {},
   "outputs": [
    {
     "name": "stdout",
     "output_type": "stream",
     "text": [
      "Ejecución  0 : \n",
      "Solución inicial:  [0, 5, 3, 8, 9, 6, 2, 7, 1, 4] 271\n",
      "[0, 5, 3, 8, 9, 6, 2, 7, 1, 4] 271\n",
      "Ejecución  1 : \n",
      "Solución inicial:  [0, 5, 3, 8, 9, 6, 2, 7, 1, 4] 271\n",
      "[0, 5, 3, 8, 9, 6, 2, 7, 1, 4] 271\n",
      "Ejecución  2 : \n",
      "Solución inicial:  [0, 5, 3, 8, 9, 6, 2, 7, 1, 4] 271\n",
      "[0, 5, 3, 8, 9, 6, 2, 7, 1, 4] 271\n",
      "Ejecución  3 : \n",
      "Solución inicial:  [0, 5, 3, 8, 9, 6, 2, 7, 1, 4] 271\n",
      "[0, 5, 3, 8, 9, 6, 2, 7, 1, 4] 271\n",
      "Ejecución  4 : \n",
      "Solución inicial:  [0, 5, 3, 8, 9, 6, 2, 7, 1, 4] 271\n",
      "[0, 5, 3, 8, 9, 6, 2, 7, 1, 4] 271\n",
      "Ejecución  5 : \n",
      "Solución inicial:  [0, 5, 3, 8, 9, 6, 2, 7, 1, 4] 271\n",
      "[0, 5, 3, 8, 9, 6, 2, 7, 1, 4] 271\n",
      "Ejecución  6 : \n",
      "Solución inicial:  [0, 5, 3, 8, 9, 6, 2, 7, 1, 4] 271\n",
      "[0, 5, 3, 8, 9, 6, 2, 7, 1, 4] 271\n",
      "Ejecución  7 : \n",
      "Solución inicial:  [0, 5, 3, 8, 9, 6, 2, 7, 1, 4] 271\n",
      "[0, 5, 3, 8, 9, 6, 2, 7, 1, 4] 271\n",
      "Ejecución  8 : \n",
      "Solución inicial:  [0, 5, 3, 8, 9, 6, 2, 7, 1, 4] 271\n",
      "[0, 1, 4, 7, 2, 6, 9, 8, 3, 5] 248\n",
      "Ejecución  9 : \n",
      "Solución inicial:  [0, 5, 3, 8, 9, 6, 2, 7, 1, 4] 271\n",
      "[0, 5, 3, 8, 9, 6, 2, 7, 1, 4] 271\n",
      "Ejecución  10 : \n",
      "Solución inicial:  [0, 5, 3, 8, 9, 6, 2, 7, 1, 4] 271\n",
      "[0, 5, 3, 8, 9, 6, 2, 7, 1, 4] 271\n",
      "Ejecución  11 : \n",
      "Solución inicial:  [0, 5, 3, 8, 9, 6, 2, 7, 1, 4] 271\n",
      "[0, 5, 3, 8, 9, 6, 2, 7, 1, 4] 271\n",
      "Ejecución  12 : \n",
      "Solución inicial:  [0, 5, 3, 8, 9, 6, 2, 7, 1, 4] 271\n",
      "[0, 5, 3, 8, 9, 6, 2, 7, 1, 4] 271\n",
      "Ejecución  13 : \n",
      "Solución inicial:  [0, 5, 3, 8, 9, 6, 2, 7, 1, 4] 271\n",
      "[0, 5, 3, 8, 9, 6, 2, 7, 1, 4] 271\n",
      "Ejecución  14 : \n",
      "Solución inicial:  [0, 5, 3, 8, 9, 6, 2, 7, 1, 4] 271\n",
      "[0, 5, 3, 8, 9, 6, 2, 7, 1, 4] 271\n",
      "Ejecución  15 : \n",
      "Solución inicial:  [0, 5, 3, 8, 9, 6, 2, 7, 1, 4] 271\n",
      "[0, 5, 3, 8, 9, 6, 2, 7, 1, 4] 271\n",
      "Ejecución  16 : \n",
      "Solución inicial:  [0, 5, 3, 8, 9, 6, 2, 7, 1, 4] 271\n",
      "[0, 5, 3, 8, 9, 6, 2, 7, 1, 4] 271\n",
      "Ejecución  17 : \n",
      "Solución inicial:  [0, 5, 3, 8, 9, 6, 2, 7, 1, 4] 271\n",
      "[0, 5, 3, 8, 9, 6, 2, 7, 1, 4] 271\n",
      "Ejecución  18 : \n",
      "Solución inicial:  [0, 5, 3, 8, 9, 6, 2, 7, 1, 4] 271\n",
      "[0, 5, 3, 8, 9, 6, 2, 7, 1, 4] 271\n",
      "Ejecución  19 : \n",
      "Solución inicial:  [0, 5, 3, 8, 9, 6, 2, 7, 1, 4] 271\n",
      "[0, 5, 3, 8, 9, 6, 2, 7, 1, 4] 271\n",
      "Ejecución  20 : \n",
      "Solución inicial:  [0, 5, 3, 8, 9, 6, 2, 7, 1, 4] 271\n",
      "[0, 7, 2, 6, 9, 8, 3, 4, 1, 5] 271\n",
      "*************** Mejor solución ***************\n",
      "248 [0, 1, 4, 7, 2, 6, 9, 8, 3, 5]\n",
      "*************** Peor solución ****************\n",
      "271 [0, 7, 2, 6, 9, 8, 3, 4, 1, 5]\n",
      "****************** Mediana *******************\n",
      "271 [0, 5, 3, 8, 9, 6, 2, 7, 1, 4]\n",
      "Media:  269.9047619047619\n",
      "Desviación estándar:  4.89805366499954\n"
     ]
    }
   ],
   "source": [
    "m=21\n",
    "t_0 = 100000\n",
    "t_f = 0.01\n",
    "sol = []\n",
    "for i in range(m):\n",
    "    print(\"Ejecución \", i, \": \")\n",
    "    x_best, f_best, = SimulatedAnnealing(t_0, t_f, n, dist_matrix)\n",
    "    sol.append([f_best, x_best])\n",
    "    print(x_best, f_best)\n",
    "    \n",
    "sol.sort()\n",
    "print(\"*************** Mejor solución ***************\")\n",
    "print(sol[0][0], sol[0][1])\n",
    "\n",
    "print(\"*************** Peor solución ****************\")\n",
    "print(sol[-1][0], sol[-1][1])\n",
    "\n",
    "print(\"****************** Mediana *******************\")\n",
    "med = m//2\n",
    "print(sol[med][0], sol[med][1])\n",
    "\n",
    "f_sol = [x[0] for x in sol]\n",
    "print(\"Media: \", numpy.mean(f_sol))\n",
    "print(\"Desviación estándar: \", numpy.std(f_sol))"
   ]
  },
  {
   "cell_type": "markdown",
   "metadata": {},
   "source": [
    "Recordemos que esta es la versión más simple de un RS, se pueden hacer cambios en el diseño para mejorar la eficacia del algoritmo."
   ]
  },
  {
   "cell_type": "code",
   "execution_count": null,
   "metadata": {},
   "outputs": [],
   "source": []
  }
 ],
 "metadata": {
  "kernelspec": {
   "display_name": "Python 3",
   "language": "python",
   "name": "python3"
  },
  "language_info": {
   "codemirror_mode": {
    "name": "ipython",
    "version": 3
   },
   "file_extension": ".py",
   "mimetype": "text/x-python",
   "name": "python",
   "nbconvert_exporter": "python",
   "pygments_lexer": "ipython3",
   "version": "3.6.3"
  }
 },
 "nbformat": 4,
 "nbformat_minor": 2
}
