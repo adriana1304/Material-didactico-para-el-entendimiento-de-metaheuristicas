{
 "cells": [
  {
   "cell_type": "markdown",
   "metadata": {},
   "source": [
    "# Ejemplo: Programación Evolutiva (PE)"
   ]
  },
  {
   "cell_type": "markdown",
   "metadata": {},
   "source": [
    "## Función de Beale"
   ]
  },
  {
   "cell_type": "markdown",
   "metadata": {},
   "source": [
    "\n",
    "La función de Beale es una función de dos variables y está definida como sigue:\n",
    "\n",
    "\\begin{equation}\n",
    "  \\min f(x_1, x_2) = (1.5 - x_1 + x_1 x_2)^2 + (2.25 - x_1 + x_1 x_2^2)^2 + (2.625 - x_1 + x_1 x_2^3)^2\n",
    "\\end{equation}\n",
    "\n",
    "donde $-4.5 \\leq x_1, x_2 \\leq 4.5$. El mínimo global está en $x^* = (3, 0.5)$ y $f(x^*)=0$."
   ]
  },
  {
   "cell_type": "markdown",
   "metadata": {
    "colab_type": "text",
    "id": "BI0a2PYAaGOM"
   },
   "source": [
    "## Principales componentes de PE"
   ]
  },
  {
   "cell_type": "markdown",
   "metadata": {},
   "source": [
    "Librería de Python que vamos a utilizar."
   ]
  },
  {
   "cell_type": "code",
   "execution_count": 1,
   "metadata": {
    "colab": {},
    "colab_type": "code",
    "id": "VUdIjWbuZr14"
   },
   "outputs": [],
   "source": [
    "import numpy as np"
   ]
  },
  {
   "cell_type": "markdown",
   "metadata": {},
   "source": [
    "Datos de entrada."
   ]
  },
  {
   "cell_type": "code",
   "execution_count": 2,
   "metadata": {},
   "outputs": [],
   "source": [
    "n = 2 #Número de variables de decisión"
   ]
  },
  {
   "cell_type": "markdown",
   "metadata": {},
   "source": [
    "### Representación de un individuo"
   ]
  },
  {
   "cell_type": "markdown",
   "metadata": {},
   "source": [
    "Un arreglo de valores flotantes de tamaño 4. Las primeras dos componentes corresponden a las dos variables del problema. Las siguentes dos componentes corresponden a los tamaños de paso para la mutación de cada una de las variables del problema."
   ]
  },
  {
   "cell_type": "code",
   "execution_count": 3,
   "metadata": {},
   "outputs": [],
   "source": [
    "i = np.array([-1.5, 2.8, 0.3, 0.15])"
   ]
  },
  {
   "cell_type": "markdown",
   "metadata": {},
   "source": [
    "### Aptitud\n",
    "\n",
    "La aptitud de un individuo $i$ la definimos como $F_a(i) = -f(x^{(i)}_1, x^{(i)}_2)$, donde $f$ es la función de Beale."
   ]
  },
  {
   "cell_type": "code",
   "execution_count": 4,
   "metadata": {},
   "outputs": [],
   "source": [
    "def f(x):\n",
    "    x1, x2 = x[0], x[1]\n",
    "    term1 = (1.5 - x1 + x1*x2)**2\n",
    "    term2 = (2.25 - x1 + x1*(x2**2))**2\n",
    "    term3 = (2.625 - x1 + x1*(x2**3))**2\n",
    "\n",
    "    return term1 + term2 + term3\n",
    "\n",
    "def fitness(x):\n",
    "    return -f(x)"
   ]
  },
  {
   "cell_type": "code",
   "execution_count": 5,
   "metadata": {},
   "outputs": [
    {
     "name": "stdout",
     "output_type": "stream",
     "text": [
      "x = (-1.5, 2.8)\t-f(x) = -895.2129089999994\t\n"
     ]
    }
   ],
   "source": [
    "print (\"x = (%s, %s)\\t-f(x) = %s\\t\"%(i[0], i[1], fitness(i[:2])))"
   ]
  },
  {
   "cell_type": "markdown",
   "metadata": {},
   "source": [
    "### Población inicial"
   ]
  },
  {
   "cell_type": "markdown",
   "metadata": {},
   "source": [
    "Por cada individuo requerido, se utiliza una distribución uniforme para generar números aleatorios. Primero se generan dos números en el intervalo $[-4.5, 4.5]$ para crear las variables de decisión. Posteriormente, se generan dos números en el intervalo $(0,1)$ para crear los tamaños de paso."
   ]
  },
  {
   "cell_type": "code",
   "execution_count": 6,
   "metadata": {},
   "outputs": [],
   "source": [
    "def getInitialPopulation(mu, n):\n",
    "    parents = []\n",
    "    for i in range(mu):\n",
    "        #Generamos un individuo\n",
    "        p = np.concatenate((np.random.uniform(-4.5, 4.5, n), np.random.uniform(0, 1, n)))\n",
    "        #Calculamos la aptitud del individuo\n",
    "        p = [p, fitness(p[:n])] \n",
    "        #Agregamos al individuo a la población \"parents\"\n",
    "        parents.append(p)\n",
    "    \n",
    "    #Regresamos la población generada\n",
    "    return parents"
   ]
  },
  {
   "cell_type": "code",
   "execution_count": 7,
   "metadata": {
    "scrolled": true
   },
   "outputs": [
    {
     "name": "stdout",
     "output_type": "stream",
     "text": [
      "Tamaño de la población: 100\n",
      "Primer individuo generado:  [array([-3.57073909,  4.48033254,  0.04512549,  0.43092328]), -103643.736219691]\n"
     ]
    }
   ],
   "source": [
    "mu = 100 #Tamaño de la población\n",
    "population = getInitialPopulation(mu, n)\n",
    "print(\"Tamaño de la población:\", len(population))\n",
    "print(\"Primer individuo generado: \", population[0])"
   ]
  },
  {
   "cell_type": "markdown",
   "metadata": {},
   "source": [
    "### Mutación y autoadaptación"
   ]
  },
  {
   "cell_type": "markdown",
   "metadata": {},
   "source": [
    "Para mutar al individuo, se necesita primero mutar los valores de los tamaño de paso  de la siguiente forma:\n",
    "\n",
    "  \\begin{eqnarray*}\n",
    "    \\sigma'_1 = \\sigma_1 \\cdot (1 + \\alpha \\cdot N(0,1)) \\\\\n",
    "    \\sigma'_2 = \\sigma_2 \\cdot (1 + \\alpha \\cdot N(0,1))\n",
    "  \\end{eqnarray*}\n",
    "\n",
    "verificamos que los valores de $\\sigma'_1$ y $\\sigma'_2$ no sean menores que $\\varepsilon_0$, en caso de que sí, se dejarán en $\\varepsilon_0$. Posteriormente, utilizamos los nuevos $\\sigma$ para mutar las variables de decisión como sigue:\n",
    "\n",
    "\\begin{eqnarray*}\n",
    "    x'_1 = x_1 + \\sigma'_1 \\cdot N(0,1) \\\\\n",
    "    x'_2 = x_2 + \\sigma'_2 \\cdot N(0,1) \n",
    "\\end{eqnarray*}\n",
    "\n",
    "Finalmente, construimos el individuo hijo:\n",
    "\n",
    "\\begin{equation*}\n",
    "    i' = [x'_1, x'_2, \\sigma'_1, \\sigma'_2]\n",
    "  \\end{equation*}\n",
    "\n",
    "Cuando se mutan las variables de decisión, se debe revisar que estén dentro del rango que indica el problema. En caso de que no, se le asignará el valor del límite que rebasó."
   ]
  },
  {
   "cell_type": "code",
   "execution_count": 10,
   "metadata": {},
   "outputs": [],
   "source": [
    "def mutation(i, n, alpha, epsilon):\n",
    "    #Mutamos los últimos dos componentes de nuestro arreglo \n",
    "    #(tamaños de paso) \n",
    "    mutation_sigma = i[n:]*(1+(alpha*np.random.normal(0, 1, n)))\n",
    "    #Verificamos que los nuevos valores no sean menores a épsilon\n",
    "    mutation_sigma[mutation_sigma < epsilon] = epsilon\n",
    "\n",
    "    #Mutamos las variables de decisión a partir de las mutaciones\n",
    "    mutation_x = i[:n] + (mutation_sigma*np.random.normal(0, 1, n))\n",
    "\n",
    "    #Revisamos que estén dentro de los límites\n",
    "    mutation_x[mutation_x < -4.5] = -4.5\n",
    "    mutation_x[mutation_x >  4.5] =  4.5\n",
    "\n",
    "    #Creamos el nuevo Individuo y lo devolvemos\n",
    "    return [np.concatenate((mutation_x, mutation_sigma)), fitness(mutation_x)]"
   ]
  },
  {
   "cell_type": "code",
   "execution_count": 11,
   "metadata": {},
   "outputs": [
    {
     "name": "stdout",
     "output_type": "stream",
     "text": [
      "[array([-3.46492722,  3.83356143,  0.06230124,  0.43211314]), -37879.09011226479]\n"
     ]
    }
   ],
   "source": [
    "#Parámetros para la mutación\n",
    "alpha = 0.2 \n",
    "epsilon = 0.01\n",
    "\n",
    "child = mutation(population[0][0], n, alpha, epsilon)\n",
    "print(child)"
   ]
  },
  {
   "cell_type": "markdown",
   "metadata": {},
   "source": [
    "## Algoritmo completo de PE simple"
   ]
  },
  {
   "cell_type": "markdown",
   "metadata": {},
   "source": [
    "A partir de $100$ padres, vamos a generar $100$ hijos. Unimos ambas poblaciones y seleccionamos los $100$ mejores individuos de acuerdo a su aptitud."
   ]
  },
  {
   "cell_type": "code",
   "execution_count": 12,
   "metadata": {},
   "outputs": [],
   "source": [
    "def EvolutionaryProgramming(n, mu, G, alpha, epsilon):\n",
    "    parents = getInitialPopulation(mu, n)\n",
    "\n",
    "    for t in range(num_gen):\n",
    "        new_gen = parents.copy()\n",
    "\n",
    "        for parent in parents:\n",
    "            #Creamos un hijo\n",
    "            child = mutation(parent[0], n, alpha, epsilon)\n",
    "            #Agregamos al hijo a la nueva generación\n",
    "            new_gen.append(child)\n",
    "        \n",
    "        #Ordenamos del peor individuo al mejor individuo \n",
    "        #(del menor valor de aptitud al mayor)\n",
    "        new_gen = sorted(new_gen, key=lambda individual: individual[-1])\n",
    "        #Nos quedamos con los mu mejores individuos\n",
    "        new_gen = new_gen[mu:]\n",
    "        \n",
    "        parents = new_gen.copy()\n",
    "\n",
    "    #devolvemos el mejor\n",
    "    return parents[-1][0], -parents[-1][1]"
   ]
  },
  {
   "cell_type": "code",
   "execution_count": 16,
   "metadata": {},
   "outputs": [],
   "source": [
    "n = 2 \n",
    "mu = 100 \n",
    "G = 200 \n",
    "alpha = 0.2 \n",
    "epsilon = .01 "
   ]
  },
  {
   "cell_type": "code",
   "execution_count": 14,
   "metadata": {},
   "outputs": [
    {
     "name": "stdout",
     "output_type": "stream",
     "text": [
      "x: [2.99992434 0.50001577]\n",
      "sigma: [0.01       0.01466159]\n",
      "f(x): 2.8418807729833617e-08\n"
     ]
    }
   ],
   "source": [
    "sol, fx = EvolutionaryProgramming(n, mu, G, alpha, epsilon)\n",
    "print(f\"x: {sol[:n]}\\nsigma: {sol[n:]}\\nf(x): {fx}\")"
   ]
  },
  {
   "cell_type": "markdown",
   "metadata": {},
   "source": [
    "Realizamos $m$ ejecuciones de nuestro algoritmo y obtenemos la corrida que encontró la mejor solución, la corrida que encontró la peor solución, la corrida que se encuentra en la mediana de las $m$ corridas, la media y la desviación estándar de las $m$ corridas con respecto al valor de la función objetivo."
   ]
  },
  {
   "cell_type": "code",
   "execution_count": 15,
   "metadata": {},
   "outputs": [
    {
     "name": "stdout",
     "output_type": "stream",
     "text": [
      "*************** Mejor solución ***************\n",
      "x: [2.99971315 0.49991913]\n",
      "sigma: [0.02772399 0.01081308]\n",
      "f(x): 1.5359162146571287e-08\n",
      "\n",
      "*************** Peor solución ****************\n",
      "x: [2.999368   0.49990788]\n",
      "sigma: [0.03042325 0.02163403]\n",
      "f(x): 1.6027470532192182e-07\n",
      "\n",
      "****************** Mediana *******************\n",
      "x: [2.99950765 0.49988047]\n",
      "sigma: [0.01059131 0.01625244]\n",
      "f(x): 3.897568350940374e-08\n",
      "\n",
      "Media:  5.586687828982277e-08\n",
      "\n",
      "Desviación estándar:  3.49564794851159e-08\n"
     ]
    }
   ],
   "source": [
    "m = 21\n",
    "sol =[]\n",
    "for m in range(m):\n",
    "    x, fx = EvolutionaryProgramming(n, mu, num_gen, alpha, epsilon)\n",
    "    sol.append([x, fx])\n",
    "    \n",
    "sol = sorted(sol, key=lambda individuo: individuo[-1])\n",
    "print(\"*************** Mejor solución ***************\")\n",
    "print(f\"x: {sol[0][0][:n]}\\nsigma: {sol[0][0][n:]}\\nf(x): {sol[0][-1]}\")\n",
    "\n",
    "print(\"\\n*************** Peor solución ****************\")\n",
    "print(f\"x: {sol[-1][0][:n]}\\nsigma: {sol[-1][0][n:]}\\nf(x): {sol[-1][-1]}\")\n",
    "\n",
    "print(\"\\n****************** Mediana *******************\")\n",
    "print(f\"x: {sol[m//2][0][:n]}\\nsigma: {sol[m//2][0][n:]}\\nf(x): {sol[m//2][-1]}\")\n",
    "\n",
    "f_sol = [x[-1] for x in sol]\n",
    "print(\"\\nMedia: \", np.mean(f_sol))\n",
    "print(\"\\nDesviación estándar: \", np.std(f_sol))"
   ]
  },
  {
   "cell_type": "markdown",
   "metadata": {},
   "source": [
    "Recordemos que esta es la versión más simple de PE, se pueden hacer cambios en el diseño para mejorar la eficacia del algoritmo."
   ]
  }
 ],
 "metadata": {
  "colab": {
   "name": "3-ProgramacionEvolutiva.ipynb",
   "provenance": []
  },
  "kernelspec": {
   "display_name": "Python 3",
   "language": "python",
   "name": "python3"
  },
  "language_info": {
   "codemirror_mode": {
    "name": "ipython",
    "version": 3
   },
   "file_extension": ".py",
   "mimetype": "text/x-python",
   "name": "python",
   "nbconvert_exporter": "python",
   "pygments_lexer": "ipython3",
   "version": "3.6.3"
  }
 },
 "nbformat": 4,
 "nbformat_minor": 2
}
