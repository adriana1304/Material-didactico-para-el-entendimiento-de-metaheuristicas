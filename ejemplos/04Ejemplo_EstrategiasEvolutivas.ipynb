{
 "cells": [
  {
   "cell_type": "markdown",
   "metadata": {
    "colab_type": "text",
    "id": "7E0lzM4Ib_Y_"
   },
   "source": [
    "# Ejemplo: Estrategias Evolutivas (EE)"
   ]
  },
  {
   "cell_type": "markdown",
   "metadata": {},
   "source": [
    "## Función de Ackley"
   ]
  },
  {
   "cell_type": "markdown",
   "metadata": {},
   "source": [
    "La función de Ackley es una función de $n$ variables y está definida como sigue:\n",
    "\n",
    "\\begin{equation}\n",
    "  \\min f(\\vec{x}) = -20\\exp \\left( -0.2 \\sqrt{\\frac{1}{n} \\sum_{i=1}^n x_i^2} \\right) \n",
    "  - exp \\left( \\frac{1}{n} \\sum_{i=1}^n \\cos (2\\pi x_i) \\right)\n",
    "  + 20 + e\n",
    "\\end{equation}\n",
    "\n",
    "donde $30 \\leq x_i \\leq 30$. El mínimo global está en $x_i = 0 $ y $f(\\vec{x})=0$."
   ]
  },
  {
   "cell_type": "markdown",
   "metadata": {},
   "source": [
    "## Principales componentes de EE"
   ]
  },
  {
   "cell_type": "markdown",
   "metadata": {},
   "source": [
    "Librerías de **Python** que vamos a utilizar."
   ]
  },
  {
   "cell_type": "code",
   "execution_count": 3,
   "metadata": {
    "colab": {},
    "colab_type": "code",
    "id": "Wd8_v2_2aquq"
   },
   "outputs": [],
   "source": [
    "import numpy as np\n",
    "from copy import copy\n",
    "from math import e, exp, sqrt, pi, cos\n",
    "from random import choices"
   ]
  },
  {
   "cell_type": "markdown",
   "metadata": {},
   "source": [
    "Datos de entrada."
   ]
  },
  {
   "cell_type": "code",
   "execution_count": 4,
   "metadata": {},
   "outputs": [],
   "source": [
    "n = 2 #Número de variables de decisión"
   ]
  },
  {
   "cell_type": "markdown",
   "metadata": {},
   "source": [
    "### Representación de un individuo"
   ]
  },
  {
   "cell_type": "markdown",
   "metadata": {},
   "source": [
    "Cada individuo será visto como un arreglo de valores flotantes de tamaño $n+1$. Las primeras $n$ componentes corresponden a las variables de decisión del problema y la siguente componente corresponde al tamaño de paso para la mutación de las variables del problema."
   ]
  },
  {
   "cell_type": "code",
   "execution_count": 5,
   "metadata": {},
   "outputs": [
    {
     "data": {
      "text/plain": [
       "array([-10.3 ,   7.84,   0.84])"
      ]
     },
     "execution_count": 5,
     "metadata": {},
     "output_type": "execute_result"
    }
   ],
   "source": [
    "#Si n = 2\n",
    "i = np.array([-10.3, 7.84, 0.84])\n",
    "i"
   ]
  },
  {
   "cell_type": "markdown",
   "metadata": {},
   "source": [
    "### Aptitud"
   ]
  },
  {
   "cell_type": "markdown",
   "metadata": {},
   "source": [
    "La aptitud de un individuo $i$ la definimos como $F_a(i) = -f(x^{(i)}_1, x^{(i)}_2)$, donde $f$ es la función de Ackley."
   ]
  },
  {
   "cell_type": "code",
   "execution_count": 7,
   "metadata": {},
   "outputs": [],
   "source": [
    "def f(x):\n",
    "    part1 = 20*exp(-0.2*sqrt(np.average(x**2)))\n",
    "    part2 = exp(np.average(np.array([cos(i) for i in  2*pi*x])))\n",
    "    return -part1 - part2 + 20 + e\n",
    "\n",
    "def fitness(x):\n",
    "    return -f(x)"
   ]
  },
  {
   "cell_type": "code",
   "execution_count": 8,
   "metadata": {},
   "outputs": [
    {
     "name": "stdout",
     "output_type": "stream",
     "text": [
      "x = (-10.3, 7.84)\t-f(x) = -18.39186319125107\t\n"
     ]
    }
   ],
   "source": [
    "print (\"x = (%s, %s)\\t-f(x) = %s\\t\"%(i[0], i[1], fitness(i[:2])))"
   ]
  },
  {
   "cell_type": "markdown",
   "metadata": {},
   "source": [
    "### Población inicial"
   ]
  },
  {
   "cell_type": "markdown",
   "metadata": {},
   "source": [
    "Por cada individuo requerido, se utiliza una distribución uniforme para generar números aleatorios. Primero se generan $n$ números en el intervalo $[-30, 30]$, cada uno corresponde a una variable de decisión. Posteriormente, un número aleatorio en el intervalo $(0,1)$ que corresponde al tamaño de paso."
   ]
  },
  {
   "cell_type": "code",
   "execution_count": 15,
   "metadata": {},
   "outputs": [],
   "source": [
    "def getInitialPopulation(mu, n):\n",
    "    population = []\n",
    "    for i in range(mu):\n",
    "        #Generamos un individuo\n",
    "        p = np.concatenate((np.random.uniform(-30, 30, n), np.random.uniform(0, 1, 1)))\n",
    "        #Calculamos la aptitud del individuo\n",
    "        p = [p, fitness(p[:n])] \n",
    "        #Agregamos al individuo a la población \"parents\"\n",
    "        population.append(p)\n",
    "        \n",
    "    return population"
   ]
  },
  {
   "cell_type": "code",
   "execution_count": 16,
   "metadata": {},
   "outputs": [
    {
     "data": {
      "text/plain": [
       "[array([-18.65372343,  -9.19726163,   0.87925505]), -20.776871049837613]"
      ]
     },
     "execution_count": 16,
     "metadata": {},
     "output_type": "execute_result"
    }
   ],
   "source": [
    "mu = 100 #Tamaño de la población\n",
    "population = getInitialPopulation(mu, n)\n",
    "population[0]"
   ]
  },
  {
   "cell_type": "markdown",
   "metadata": {},
   "source": [
    "### Cruza"
   ]
  },
  {
   "cell_type": "markdown",
   "metadata": {},
   "source": [
    "#### Recombinación discreta local\n",
    "\n",
    "Utilizando una distribución uniforme, generamos un número aleatorio en el intervalo $(0, 1)$ por cada componente de nuestro individuo. Recordemos que las primeras $n$ componentes  del individuo corresponden a sus variables de decisión y la última componente a su tamaño de paso. Si el valor es menor a 0.5, el hijo se queda con el valor del primer padre. De lo contrario, el hijo se queda con el valor del segundo padre."
   ]
  },
  {
   "cell_type": "code",
   "execution_count": 18,
   "metadata": {},
   "outputs": [],
   "source": [
    "def localDiscreteCrossover(parent_1, parent_2):\n",
    "    N = len(parent_1)\n",
    "    #Creamos un vector con N componentes en el intervalo\n",
    "    # (0,1) con distribución uniforme\n",
    "    z = np.random.uniform(0, 1, N)\n",
    "    child = np.array([0.0]*N)\n",
    "    #Asignamos el valor del padre correspondiente\n",
    "    for i in range(N):\n",
    "        if z[i] < 0.5:\n",
    "            child[i] = parent_1[i]\n",
    "        else:\n",
    "            child[i] = parent_2[i]\n",
    "            \n",
    "    #Regresamos el individuo generado\n",
    "    return child"
   ]
  },
  {
   "cell_type": "code",
   "execution_count": 21,
   "metadata": {},
   "outputs": [
    {
     "name": "stdout",
     "output_type": "stream",
     "text": [
      "[-10.3   -3.84   0.84]\n"
     ]
    }
   ],
   "source": [
    "i1 = [-10.3, 7.84, 0.84]\n",
    "i2 = [2.4, -3.84, 0.98]\n",
    "new_i = localDiscreteCrossover(i1,i2)\n",
    "print(new_i)"
   ]
  },
  {
   "cell_type": "markdown",
   "metadata": {},
   "source": [
    "### Mutación\n",
    "\n",
    "Para mutar un individuo, se necesita mutar primero el tamaño de paso:\n",
    "\n",
    "  \\begin{eqnarray*}\n",
    "    {\\sigma}' = \\sigma \\cdot e^{ \\tau \\cdot N(0,1)}\n",
    "  \\end{eqnarray*}\n",
    "\n",
    "Si el valor de ${\\sigma}'$ es menor a $\\varepsilon_0$, hacemos que ${\\sigma}' = \\varepsilon_0$. Posteriormente, utilizamos ${\\sigma}'$ para mutar las variables de decisión. Si $n=2$, nuestras variables de decisión mutadas quedan de la siguiente forma:\n",
    "\n",
    "\\begin{eqnarray*}\n",
    "    x'_1 = x_1 + \\sigma' \\cdot N(0,1) \\\\\n",
    "    x'_2 = x_2 + \\sigma' \\cdot N(0,1)\n",
    "\\end{eqnarray*}\n",
    "\n",
    "Revisamos que las variables de decisión generadas estén dentro del rango que indica el problema. En caso de que no, se les asigna el valor del límite que rebasó. Finalmente, construimos el individuo hijo:\n",
    "\n",
    "\\begin{equation*}\n",
    "    i' = [x'_1, x'_2, \\sigma']\n",
    "\\end{equation*}"
   ]
  },
  {
   "cell_type": "code",
   "execution_count": 23,
   "metadata": {},
   "outputs": [],
   "source": [
    "def mutation(i, n, epsilon, tau):\n",
    "    #Mutamos el tamaño de paso\n",
    "    mutation_sigma = i[-1]*(e**(tau*np.random.normal(0, 1, 1)))\n",
    "    #Verificamos que el nuevo valor no sea menor a épsilon\n",
    "    if mutation_sigma[0] < epsilon:\n",
    "        mutation_sigma[0] = epsilon\n",
    "\n",
    "    #Mutamos las variables de decisión\n",
    "    mutation_x = i[:n] + (mutation_sigma[0]*np.random.normal(0, 1, n))\n",
    "\n",
    "    #Revisamos que estén dentro de los límites\n",
    "    mutation_x[mutation_x < -30] = -30\n",
    "    mutation_x[mutation_x >  30] =  30\n",
    "    \n",
    "    return np.concatenate((mutation_x, mutation_sigma))"
   ]
  },
  {
   "cell_type": "code",
   "execution_count": 24,
   "metadata": {},
   "outputs": [
    {
     "name": "stdout",
     "output_type": "stream",
     "text": [
      "[-10.15890813   7.69605627   0.4825125 ]\n"
     ]
    }
   ],
   "source": [
    "tau = 1/sqrt(2) #Tasa de aprendizaje\n",
    "epsilon = 0.01 #mínimo valor de sigma\n",
    "i = [-10.3, 7.84, 0.84]\n",
    "new_i = mutation(i, n, epsilon, tau)\n",
    "print(new_i)"
   ]
  },
  {
   "cell_type": "markdown",
   "metadata": {},
   "source": [
    "#### Crear hijo usando cruza y mutación"
   ]
  },
  {
   "cell_type": "code",
   "execution_count": 25,
   "metadata": {},
   "outputs": [],
   "source": [
    "def createChild(parent_1, parent_2, n, epsilon, tau):\n",
    "    new_ind = localDiscreteCrossover(parent_1, parent_2)\n",
    "    new_ind = mutation(new_ind, n, epsilon, tau)\n",
    "\n",
    "    #Regresamos el nuevo individuo, junto con su valor de apitud\n",
    "    return [new_ind, fitness(new_ind[:n])]"
   ]
  },
  {
   "cell_type": "code",
   "execution_count": 26,
   "metadata": {},
   "outputs": [
    {
     "data": {
      "text/plain": [
       "[array([  9.79058706, -19.6921706 ,   1.24097226]), -20.876622230156865]"
      ]
     },
     "execution_count": 26,
     "metadata": {},
     "output_type": "execute_result"
    }
   ],
   "source": [
    "createChild(population[0][0], population[1][0], n, epsilon, tau)"
   ]
  },
  {
   "cell_type": "markdown",
   "metadata": {},
   "source": [
    "## Algoritmo completo de $(\\mu, \\lambda)$ - EE "
   ]
  },
  {
   "cell_type": "markdown",
   "metadata": {},
   "source": [
    "Se usa una selección $(\\mu,\\lambda)$ donde $\\mu$=100 y $\\lambda$=700.\n",
    "Se elegirán dos padres al azar para generar un hijo nuevo y este proceso se llevará a cabo 700 veces. De los hijos resultantes, se elegirán a los 100 mejores que pasarán a la siguiente generación."
   ]
  },
  {
   "cell_type": "code",
   "execution_count": 27,
   "metadata": {
    "colab": {},
    "colab_type": "code",
    "id": "PBZaoI72bxBI"
   },
   "outputs": [],
   "source": [
    "def EvolutionStrategies(n, G, epsilon=0.01, tau=None, mu_=100, lambda_=700):\n",
    "    #Si el usuario no define tau, \n",
    "    #se usa el valor recomendado en la literatura\n",
    "    if tau == None:\n",
    "        tau = 1/sqrt(n)\n",
    "        \n",
    "    population = getInitialPopulation(mu_, n)\n",
    "    #Generamos los índices de los individuos para poder elegirlos\n",
    "    #aleatoriamente\n",
    "    population_idx = range(mu_)\n",
    "    \n",
    "    #Repetimos el proceso por G generaciones\n",
    "    for _ in range(G):\n",
    "        offspring = []\n",
    "        #Generamos lambda_ hijos\n",
    "        for i in range(lambda_):\n",
    "            #Seleccionamos a los padres\n",
    "            parents_idx = choices(population_idx, k=2)\n",
    "            parent_1 = population[population_idx[0]][0]\n",
    "            parent_2 = population[population_idx[1]][0]\n",
    "            #Creamos el hijo y lo añadimos a la población de hijos\n",
    "            offspring.append( createChild(parent_1, parent_2, n, epsilon, tau) )\n",
    "\n",
    "        #Ordenamos del mejor individuo al peor individuo\n",
    "        offspring.sort(key=lambda x: x[-1], reverse=True)\n",
    "        #Seleccionamos a los mu_ mejores\n",
    "        population = offspring[:mu_].copy()\n",
    "    \n",
    "    \n",
    "    #Regresamos el mejor individuo\n",
    "    return population[0][0], -population[0][1]"
   ]
  },
  {
   "cell_type": "code",
   "execution_count": 28,
   "metadata": {},
   "outputs": [],
   "source": [
    "n = 2 #Número de variables/dimensiones\n",
    "mu_ = 100 #tamaño de la población\n",
    "lambda_ = 700 #Cantidad de hijos que se generan por generación\n",
    "G = 100 #número de generaciones\n",
    "tau = 1/sqrt(n) #tasa de aprendizaje\n",
    "epsilon = 0.01 #valor mínimo de sigma (tamaño de paso)"
   ]
  },
  {
   "cell_type": "code",
   "execution_count": 29,
   "metadata": {},
   "outputs": [
    {
     "name": "stdout",
     "output_type": "stream",
     "text": [
      "x: [-0.00065657  0.00037216]\n",
      "Sigma: [0.01]\n",
      "f(x): 0.002149800797706991\n"
     ]
    }
   ],
   "source": [
    "sol, fx = EvolutionStrategies(n, G, epsilon, tau, mu_, lambda_)\n",
    "print(f\"x: {sol[:n]}\\nSigma: {sol[n:]}\\nf(x): {fx}\")"
   ]
  },
  {
   "cell_type": "markdown",
   "metadata": {},
   "source": [
    "Realizamos $m$ ejecuciones de nuestro algoritmo usando 5, 10 y 20 variables de decisión. Para cada instancia del problema, obtenemos la corrida que encontró la mejor solución, la corrida que encontró la peor solución, la corrida que se encuentra en la mediana de las $m$ ejecuciones, la media y la desviación estándar de las $m$ corridas con respecto al valor de la función objetivo."
   ]
  },
  {
   "cell_type": "code",
   "execution_count": 30,
   "metadata": {},
   "outputs": [],
   "source": [
    "def makeMRuns(m, n, G, epsilon, tau):\n",
    "    sol =[]\n",
    "    for m in range(m):\n",
    "        x, fx = EvolutionStrategies(n, G, epsilon, tau)\n",
    "        sol.append([x, fx])\n",
    "\n",
    "    print(f\"Para {n} variables\")\n",
    "\n",
    "    sol.sort(key=lambda individuo: individuo[-1])\n",
    "    print(\"*************** Mejor solución ***************\")\n",
    "    print(f\"x: {sol[0][0][:n]}\\nSigma: {sol[0][0][n:]}\\nf(x): {sol[0][-1]}\")\n",
    "\n",
    "    print(\"\\n*************** Peor solución ****************\")\n",
    "    print(f\"x: {sol[-1][0][:n]}\\nSigma: {sol[-1][0][n:]}\\nf(x): {sol[-1][-1]}\")\n",
    "\n",
    "    print(\"\\n****************** Mediana *******************\")\n",
    "    print(f\"x: {sol[m//2][0][:n]}\\nSigma: {sol[m//2][0][n:]}\\nf(x): {sol[m//2][-1]}\")\n",
    "\n",
    "    f_sol = [x[-1] for x in sol]\n",
    "    print(\"\\nMedia: \", np.mean(f_sol))\n",
    "    print(\"\\nDesviación estándar: \", np.std(f_sol))"
   ]
  },
  {
   "cell_type": "code",
   "execution_count": 31,
   "metadata": {},
   "outputs": [
    {
     "name": "stdout",
     "output_type": "stream",
     "text": [
      "Para 5 variables\n",
      "*************** Mejor solución ***************\n",
      "x: [ 0.00064673 -0.00386858  0.00048901  0.00019717 -0.00088428]\n",
      "Sigma: [0.01]\n",
      "f(x): 0.007429178001150394\n",
      "\n",
      "*************** Peor solución ****************\n",
      "x: [ 29.99756535 -24.9972199  -14.9996601  -13.9957628   26.00348506]\n",
      "Sigma: [0.01047811]\n",
      "f(x): 19.79532217626284\n",
      "\n",
      "****************** Mediana *******************\n",
      "x: [ 1.29892061e+01  2.99840510e+00 -9.99321299e+00  3.37022526e-04\n",
      " -8.98909928e+00]\n",
      "Sigma: [0.01]\n",
      "f(x): 16.324552661876236\n",
      "\n",
      "Media:  9.776078373439958\n",
      "\n",
      "Desviación estándar:  9.336075319808344\n"
     ]
    }
   ],
   "source": [
    "#Instancia con 5 variables\n",
    "n = 5 \n",
    "G = 100 \n",
    "epsilon = 0.01\n",
    "tau = 1/sqrt(n)\n",
    "m = 21\n",
    "\n",
    "makeMRuns(m, n, G, epsilon, tau)"
   ]
  },
  {
   "cell_type": "code",
   "execution_count": 32,
   "metadata": {},
   "outputs": [
    {
     "name": "stdout",
     "output_type": "stream",
     "text": [
      "Para 10 variables\n",
      "*************** Mejor solución ***************\n",
      "x: [-0.00355678 -0.00469178  0.00141009  0.00297665  0.00214689 -0.0053407\n",
      " -0.00626911 -0.0019492   0.00068978 -0.00434212]\n",
      "Sigma: [0.01262651]\n",
      "f(x): 0.015775159267399363\n",
      "\n",
      "*************** Peor solución ****************\n",
      "x: [ 28.99420216  28.99560935   8.99479738 -25.99707964 -19.00635308\n",
      "  21.00779196  27.99865091   5.00792837  -5.99960455  -1.00384787]\n",
      "Sigma: [0.01]\n",
      "f(x): 19.650596767560053\n",
      "\n",
      "****************** Mediana *******************\n",
      "x: [ 3.00131095e+00 -1.29979440e+01 -9.99735252e+00 -1.50097207e-03\n",
      "  1.09964389e+01  3.00359373e+00  3.99191258e+00  8.99595040e+00\n",
      "  1.99896535e+01  1.29886174e+01]\n",
      "Sigma: [0.01]\n",
      "f(x): 17.482527440612373\n",
      "\n",
      "Media:  12.858952654109073\n",
      "\n",
      "Desviación estándar:  8.197688889476673\n"
     ]
    }
   ],
   "source": [
    "#Instancia con 10 variables\n",
    "n = 10\n",
    "G = 100\n",
    "epsilon = 0.01\n",
    "tau = 1/sqrt(n)\n",
    "m = 21\n",
    "\n",
    "makeMRuns(m, n, G, epsilon, tau)"
   ]
  },
  {
   "cell_type": "code",
   "execution_count": 33,
   "metadata": {},
   "outputs": [
    {
     "name": "stdout",
     "output_type": "stream",
     "text": [
      "Para 20 variables\n",
      "*************** Mejor solución ***************\n",
      "x: [-0.00096883 -0.01002416 -0.01067195 -0.00834144  0.00048528  0.01650114\n",
      "  0.00474224  0.0038431   0.00660964 -0.00306943  0.01213031 -0.0023433\n",
      "  0.00077898 -0.01847668 -0.00778009 -0.00873538  0.00346705  0.00676743\n",
      " -0.01373322  0.01753902]\n",
      "Sigma: [0.015]\n",
      "f(x): 0.043170523843248265\n",
      "\n",
      "*************** Peor solución ****************\n",
      "x: [ 21.00506099  12.97651264  12.99219435  15.00800424 -10.00504334\n",
      " -15.99002891  -0.99609665  21.01679554   4.00619211   3.99273967\n",
      "  21.00221368 -22.99073379  15.00043309 -22.99548788  20.98875876\n",
      " -12.00360914  18.00666284 -13.98518125   8.01997577 -16.98441983]\n",
      "Sigma: [0.01602363]\n",
      "f(x): 19.16371926140832\n",
      "\n",
      "****************** Mediana *******************\n",
      "x: [-1.49840187e+01  5.99552206e+00 -6.01179188e+00 -2.49974553e+01\n",
      " -1.00433095e+00  7.72362131e-03  4.00673058e+00 -1.50045372e+01\n",
      " -8.98240037e+00  9.77063376e-01  5.00800423e+00 -1.09996444e+01\n",
      "  9.01293109e+00 -7.99212644e+00 -6.99015853e+00 -4.98356274e+00\n",
      " -1.79853169e+01 -8.99187456e+00  2.29892261e+01  1.39955873e+01]\n",
      "Sigma: [0.015]\n",
      "f(x): 18.08099069250812\n",
      "\n",
      "Media:  11.55775897319607\n",
      "\n",
      "Desviación estándar:  8.883558523605728\n"
     ]
    }
   ],
   "source": [
    "#Instancia con 20 variables\n",
    "n = 20 \n",
    "G = 100 \n",
    "epsilon = 0.015 \n",
    "tau = 1/sqrt(n)\n",
    "m = 21\n",
    "\n",
    "makeMRuns(m, n, G, epsilon, tau)"
   ]
  }
 ],
 "metadata": {
  "colab": {
   "name": "4-EstrategiasEvolutivas.ipynb",
   "provenance": []
  },
  "kernelspec": {
   "display_name": "Python 3",
   "language": "python",
   "name": "python3"
  },
  "language_info": {
   "codemirror_mode": {
    "name": "ipython",
    "version": 3
   },
   "file_extension": ".py",
   "mimetype": "text/x-python",
   "name": "python",
   "nbconvert_exporter": "python",
   "pygments_lexer": "ipython3",
   "version": "3.6.3"
  }
 },
 "nbformat": 4,
 "nbformat_minor": 2
}
