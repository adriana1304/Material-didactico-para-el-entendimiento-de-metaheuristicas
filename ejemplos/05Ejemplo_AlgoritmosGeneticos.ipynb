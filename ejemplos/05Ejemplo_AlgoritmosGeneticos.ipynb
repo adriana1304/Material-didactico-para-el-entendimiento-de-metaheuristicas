{
 "cells": [
  {
   "cell_type": "markdown",
   "metadata": {},
   "source": [
    "# Ejemplo: Algoritmos genéticos (AGs)"
   ]
  },
  {
   "cell_type": "markdown",
   "metadata": {},
   "source": [
    "## Función de Beale"
   ]
  },
  {
   "cell_type": "markdown",
   "metadata": {},
   "source": [
    "\n",
    "La función de Beale es una función de dos variables y está definida como sigue:\n",
    "\n",
    "\\begin{equation}\n",
    "  \\min f(x_1, x_2) = (1.5 - x_1 + x_1 x_2)^2 + (2.25 - x_1 + x_1 x_2^2)^2 + (2.625 - x_1 + x_1 x_2^3)^2\n",
    "\\end{equation}\n",
    "\n",
    "donde $-4.5 \\leq x_1, x_2 \\leq 4.5$. El mínimo global está en $x^* = (3, 0.5)$ y $f(x^*)=0$."
   ]
  },
  {
   "cell_type": "markdown",
   "metadata": {},
   "source": [
    "## Principales componentes de AGs "
   ]
  },
  {
   "cell_type": "markdown",
   "metadata": {},
   "source": [
    "Librerías de **Python** que vamos a utilizar."
   ]
  },
  {
   "cell_type": "code",
   "execution_count": 1,
   "metadata": {},
   "outputs": [],
   "source": [
    "from random import randint, random, shuffle\n",
    "from copy import copy, deepcopy\n",
    "from math import ceil, log, e, exp, sqrt, pi, cos\n",
    "import numpy as np"
   ]
  },
  {
   "cell_type": "markdown",
   "metadata": {},
   "source": [
    "Datos de entrada."
   ]
  },
  {
   "cell_type": "code",
   "execution_count": 2,
   "metadata": {},
   "outputs": [],
   "source": [
    "n = 2 #Número de variables de decisión\n",
    "precision = 3 #número de dígitos de precisión\n",
    "bounds = [-4.5, 4.5] #límites inferior y superior"
   ]
  },
  {
   "cell_type": "markdown",
   "metadata": {},
   "source": [
    "### Representación de la información genética\n",
    "\n",
    "La fórmula vista para calcular el número de bits que se necesitan por variable es:\n",
    "\n",
    "num_bits $ =  \\lceil \\log_2 ((l_{sup} - l_{inf})*10^{p})\\rceil$\n",
    "\n",
    "donde $p$ es la precisión deseada y $l_{inf}$ y $l_{sup}$ son los límites inferior  y superior de la variable."
   ]
  },
  {
   "cell_type": "code",
   "execution_count": 3,
   "metadata": {},
   "outputs": [],
   "source": [
    "def getSizeVariable(bounds, p):\n",
    "    return ceil(log((bounds[1] - bounds[0])*(10**p), 2))"
   ]
  },
  {
   "cell_type": "code",
   "execution_count": 4,
   "metadata": {},
   "outputs": [
    {
     "name": "stdout",
     "output_type": "stream",
     "text": [
      "14\n"
     ]
    }
   ],
   "source": [
    "num_bits = getSizeVariable(bounds, precision)\n",
    "print(num_bits)"
   ]
  },
  {
   "cell_type": "markdown",
   "metadata": {},
   "source": [
    "Dado que nuestro problema tiene dos variables y ambas tienen el mismo límite superior e inferior, el tamaño de la cadena binaria que representa el cromosoma de un individuo es de longitud $28$. Por ejemplo:"
   ]
  },
  {
   "cell_type": "code",
   "execution_count": 5,
   "metadata": {
    "scrolled": true
   },
   "outputs": [
    {
     "name": "stdout",
     "output_type": "stream",
     "text": [
      "0111010000100011010101011001 28\n"
     ]
    }
   ],
   "source": [
    "#Si n = 2\n",
    "i = '0111010000100011010101011001'\n",
    "print(i, len(i))"
   ]
  },
  {
   "cell_type": "markdown",
   "metadata": {},
   "source": [
    "Para poder calcular la aptitud de cada individuo es necesario obtener el valor real de cada una de sus variables."
   ]
  },
  {
   "cell_type": "code",
   "execution_count": 6,
   "metadata": {},
   "outputs": [],
   "source": [
    "def getRealValues(chromosome, num_bits, num_variables, bounds):\n",
    "    point = []\n",
    "    for i in range(num_variables):\n",
    "        b = chromosome[i*num_bits:(i+1)*num_bits]\n",
    "\n",
    "        #binario a entero\n",
    "        d = 0\n",
    "        e = num_bits-1\n",
    "        for j in b:\n",
    "            d += (int(j) * 2**e)\n",
    "            e -= 1\n",
    "\n",
    "        #entero a decimal\n",
    "        r = bounds[0] + (((bounds[1]-bounds[0])*d)/(2**num_bits-1))\n",
    "        point.append(r)\n",
    "\n",
    "    return np.array(point)"
   ]
  },
  {
   "cell_type": "code",
   "execution_count": 7,
   "metadata": {},
   "outputs": [
    {
     "data": {
      "text/plain": [
       "array([-0.41723128,  3.00247207])"
      ]
     },
     "execution_count": 7,
     "metadata": {},
     "output_type": "execute_result"
    }
   ],
   "source": [
    "i_real = getRealValues(i, 14, 2, bounds)\n",
    "i_real"
   ]
  },
  {
   "cell_type": "markdown",
   "metadata": {},
   "source": [
    "### Función objetivo / Aptitud"
   ]
  },
  {
   "cell_type": "markdown",
   "metadata": {},
   "source": [
    "Función de Beale"
   ]
  },
  {
   "cell_type": "code",
   "execution_count": 8,
   "metadata": {},
   "outputs": [],
   "source": [
    "def f(x):\n",
    "    x1, x2 = x[0], x[1]\n",
    "    term1 = (1.5 - x1 + x1*x2)**2\n",
    "    term2 = (2.25 - x1 + x1*(x2**2))**2\n",
    "    term3 = (2.625 - x1 + x1*(x2**3))**2\n",
    "\n",
    "    return term1 + term2 + term3"
   ]
  },
  {
   "cell_type": "markdown",
   "metadata": {},
   "source": [
    "Dado que estamos resolviendo un problema de minimización, asignamos la aptitud de cada individuo $i$ de la siguiente forma:\n",
    "\n",
    "$f_a(i)=\\frac{1}{f(x_1^{(i)}, x_2^{(i)})+1}$"
   ]
  },
  {
   "cell_type": "code",
   "execution_count": 9,
   "metadata": {},
   "outputs": [],
   "source": [
    "def getFitness(f_x):\n",
    "    return 1/(f_x+1)"
   ]
  },
  {
   "cell_type": "code",
   "execution_count": 10,
   "metadata": {},
   "outputs": [
    {
     "name": "stdout",
     "output_type": "stream",
     "text": [
      "x = [-0.41723128  3.00247207]\n",
      "f(x) = 69.71559241216701\n",
      "Aptitud(x) = 0.014141152833331061\n"
     ]
    }
   ],
   "source": [
    "fx = f(i_real)\n",
    "print (f\"x = {i_real}\\nf(x) = {fx}\\nAptitud(x) = {getFitness(fx)}\")"
   ]
  },
  {
   "cell_type": "markdown",
   "metadata": {},
   "source": [
    "### Representación de un individuo"
   ]
  },
  {
   "cell_type": "markdown",
   "metadata": {},
   "source": [
    "Para almacenar la información de los individuos, vamos a crear una clase con los siguientes atributos:\n",
    "\n",
    " 1. **x**: \n",
    "Cadena binaria con el cromosoma del individuo.\n",
    " 2. **x_real**:\n",
    "Valores reales de cada variable.\n",
    " 3. **f**:\n",
    "Valor en la función objetivo.\n",
    " 4. **fitness**:\n",
    "Aptitud del individuo.\n",
    "\n",
    "Y tendrá la función **\\_\\_str\\_\\_**."
   ]
  },
  {
   "cell_type": "code",
   "execution_count": 11,
   "metadata": {},
   "outputs": [],
   "source": [
    "class Individual:\n",
    "    def __init__(self, chromosome):\n",
    "        self.x = chromosome\n",
    "        self.x_real = None\n",
    "        self.f = None\n",
    "        self.fitness = None\n",
    "        \n",
    "    def __str__(self):\n",
    "        #Imprime información del individuo. \n",
    "        #Este método se manda a llamar a través print\n",
    "        return \"Cadena binaria: {}\\nComponentes reales: {}\\nf(x): {}\\nAptitud: {}\".format(self.x, self.x_real, self.f, self.fitness)"
   ]
  },
  {
   "cell_type": "markdown",
   "metadata": {},
   "source": [
    "### Población inicial"
   ]
  },
  {
   "cell_type": "markdown",
   "metadata": {},
   "source": [
    "Para cada posición de la cadena binaria de un individuo, se utiliza una distribución uniforme para generar un número aleatorio en el intervalo $(0, 1)$. Si el valor resultante es menor a 0.5, toma el valor de cero. De lo contrario, toma el valor de 1."
   ]
  },
  {
   "cell_type": "code",
   "execution_count": 12,
   "metadata": {},
   "outputs": [],
   "source": [
    "def getInitialPopulation(mu, num_bits, n):\n",
    "    population = []\n",
    "    for _ in range(mu):\n",
    "        chromosome = \"\"\n",
    "        for i in range(n*num_bits):\n",
    "            if random()<.5:\n",
    "                chromosome+=\"0\"\n",
    "            else:\n",
    "                chromosome+=\"1\"\n",
    "            \n",
    "        population.append(Individual(chromosome))\n",
    "    return population"
   ]
  },
  {
   "cell_type": "code",
   "execution_count": 13,
   "metadata": {},
   "outputs": [],
   "source": [
    "mu = 100\n",
    "population = getInitialPopulation(mu, num_bits, n)"
   ]
  },
  {
   "cell_type": "markdown",
   "metadata": {},
   "source": [
    "Evaluamos cada uno de los individuos:"
   ]
  },
  {
   "cell_type": "code",
   "execution_count": 14,
   "metadata": {},
   "outputs": [],
   "source": [
    "for p in population:\n",
    "    p.x_real = getRealValues(p.x, num_bits, n, bounds)\n",
    "    p.f = f(p.x_real)\n",
    "    p.fitness = getFitness(p.f)"
   ]
  },
  {
   "cell_type": "code",
   "execution_count": 15,
   "metadata": {},
   "outputs": [
    {
     "name": "stdout",
     "output_type": "stream",
     "text": [
      "Cadena binaria: 0011001010100001101010000101\n",
      "Componentes reales: [-2.72010621 -0.77046329]\n",
      "f(x): 94.56586667106828\n",
      "Aptitud: 0.010463987141370645\n"
     ]
    }
   ],
   "source": [
    "print(population[0])"
   ]
  },
  {
   "cell_type": "markdown",
   "metadata": {},
   "source": [
    "### Selección de padres"
   ]
  },
  {
   "cell_type": "markdown",
   "metadata": {},
   "source": [
    "Universal estocástica"
   ]
  },
  {
   "cell_type": "code",
   "execution_count": 16,
   "metadata": {},
   "outputs": [],
   "source": [
    "def getPopulationMean(population, mu):\n",
    "    mean = 0\n",
    "    \n",
    "    for p in range(mu):\n",
    "        mean += population[p].fitness\n",
    "    \n",
    "    return mean/mu   "
   ]
  },
  {
   "cell_type": "code",
   "execution_count": 17,
   "metadata": {},
   "outputs": [],
   "source": [
    "#Regresa un arreglo que contiene los índices de los individuos\n",
    "#que serán padres\n",
    "def universalStochastic(population, mu):\n",
    "    r = random() \n",
    "    mean = getPopulationMean(population, mu)\n",
    "    cont = 0\n",
    "    parents = []\n",
    "    for i in range(mu):\n",
    "        cont += population[i].fitness/mean        \n",
    "        while cont > r and len(parents) < mu: \n",
    "            parents.append(i) \n",
    "            r += 1\n",
    "    \n",
    "    return parents "
   ]
  },
  {
   "cell_type": "code",
   "execution_count": 18,
   "metadata": {},
   "outputs": [
    {
     "name": "stdout",
     "output_type": "stream",
     "text": [
      "Cadena binaria: 0011001010100001101010000101\n",
      "Componentes reales: [-2.72010621 -0.77046329]\n",
      "f(x): 94.56586667106828\n",
      "Aptitud: 0.010463987141370645\n",
      "Cadena binaria: 1110000101000110001111010010\n",
      "Componentes reales: [3.41997803 0.53753891]\n",
      "f(x): 0.1092864247827332\n",
      "Aptitud: 0.9014804271095824\n"
     ]
    }
   ],
   "source": [
    "parents = universalStochastic(population, mu)\n",
    "print(population[parents[0]])\n",
    "print(population[parents[10]])"
   ]
  },
  {
   "cell_type": "markdown",
   "metadata": {},
   "source": [
    "### Recombinación\n",
    "\n",
    "Cruza de dos puntos: \n",
    "1. Generamos dos puntos de cruza aleatorios con distribución uniforme.\n",
    "2. A partir de la posición $0$ y hasta el primer punto de cruza, el primer hijo toma la información del primer padre y el segundo hijo toma la información del segundo padre.\n",
    "3. A partir del primer punto de cruza y hasta el segundo punto de cruza, el primer hijo toma la información del segundo padre y el segundo hijo toma la información del primer padre.\n",
    "4. A partir del segundo punto de cruza y hasta el final de la cadena, el primer hijo toma la información del primer padre y el segundo hijo toma la información del segundo padre."
   ]
  },
  {
   "cell_type": "code",
   "execution_count": 19,
   "metadata": {},
   "outputs": [],
   "source": [
    "def twoPointsCrossover(p1, p2):\n",
    "    index1 = randint(1, len(p2.x)-1)\n",
    "    index2 = index1\n",
    "    while index2 == index1:\n",
    "        index2 = randint(1,len(p2.x)-1)\n",
    "\n",
    "    if index2 < index1:\n",
    "        index2, index1 = index1, index2\n",
    "\n",
    "    offspring_1 = p1.x[:index1]+p2.x[index1:index2]+p1.x[index2:]\n",
    "    offspring_2 = p2.x[:index1]+p1.x[index1:index2]+p2.x[index2:]\n",
    "\n",
    "    return Individual(offspring_1), Individual(offspring_2)"
   ]
  },
  {
   "cell_type": "code",
   "execution_count": 20,
   "metadata": {},
   "outputs": [
    {
     "name": "stdout",
     "output_type": "stream",
     "text": [
      "Cadena binaria: 0011001010100001001010000101\n",
      "Componentes reales: [-2.72010621 -1.89553195]\n",
      "f(x): 680.8091084998717\n",
      "Aptitud: 0.0014666861846422343\n",
      "Cadena binaria: 1110000101000110101111010010\n",
      "Componentes reales: [3.41997803 1.66260758]\n",
      "f(x): 305.4954578474802\n",
      "Aptitud: 0.0032626910918126064\n"
     ]
    }
   ],
   "source": [
    "o1, o2 = twoPointsCrossover(population[parents[0]], population[parents[10]])\n",
    "o1.x_real = getRealValues(o1.x, num_bits, n, bounds)\n",
    "o2.x_real = getRealValues(o2.x, num_bits, n, bounds)\n",
    "o1.f = f(o1.x_real)\n",
    "o2.f = f(o2.x_real)\n",
    "o1.fitness = getFitness(o1.f)\n",
    "o2.fitness = getFitness(o2.f)\n",
    "print(o1)\n",
    "print(o2)"
   ]
  },
  {
   "cell_type": "markdown",
   "metadata": {},
   "source": [
    "### Mutación\n",
    "\n",
    "Por cada elemento en la cadena binaria, generamos un número aleatorio en el intervalo $(0,1)$, utilizando una distribución uniforme. Si el número generado es menor que la probabilidad de mutación, se mutará el elemento: si es 1 se hace 0 y si es 0 se hace 1."
   ]
  },
  {
   "cell_type": "code",
   "execution_count": 21,
   "metadata": {},
   "outputs": [],
   "source": [
    "def mutation(individual, pm):\n",
    "    for i in range(len(individual.x)):\n",
    "        if random() < pm:\n",
    "            if individual.x[i] == \"1\":\n",
    "                individual.x = individual.x[:i] + \"0\" + individual.x[i+1:]\n",
    "            else:\n",
    "                individual.x = individual.x[:i] + \"1\" + individual.x[i+1:]\n"
   ]
  },
  {
   "cell_type": "code",
   "execution_count": 22,
   "metadata": {},
   "outputs": [
    {
     "name": "stdout",
     "output_type": "stream",
     "text": [
      "Antes de mutar\n",
      "0011001010100001001010000101\n",
      "\n",
      "Después de mutar\n",
      "0011001010100011101010000101\n"
     ]
    }
   ],
   "source": [
    "print(f\"Antes de mutar\\n{o1.x}\")\n",
    "mutation(o1, 0.1)\n",
    "print(f\"\\nDespués de mutar\\n{o1.x}\")"
   ]
  },
  {
   "cell_type": "markdown",
   "metadata": {},
   "source": [
    "### Selección de sobrevivientes\n",
    "\n",
    "Selección basada en edad aplicando elitismo: Si el peor de los hijos es peor que la mejor solución de la población actual, se sustituye el peor de los hijos por la mejor solución actual. La siguiente generación estará conformada por los hijos generados."
   ]
  },
  {
   "cell_type": "code",
   "execution_count": 23,
   "metadata": {},
   "outputs": [],
   "source": [
    "def getBestIndividual(population):\n",
    "    best = 0\n",
    "    for i in range(1, len(population)):\n",
    "        if population[i].fitness > population[best].fitness:\n",
    "            best = i\n",
    "    return best\n",
    "\n",
    "def getWorstIndividual(population):\n",
    "    worst = 0\n",
    "    for i in range(1, len(population)):\n",
    "        if population[i].fitness < population[worst].fitness:\n",
    "            worst = i\n",
    "    return worst"
   ]
  },
  {
   "cell_type": "code",
   "execution_count": 24,
   "metadata": {},
   "outputs": [],
   "source": [
    "def getSurvivors(parents, offspring):\n",
    "    best_ind = getBestIndividual(parents)\n",
    "    worst_ind = getWorstIndividual(offspring)\n",
    "    \n",
    "    if parents[best_ind].fitness > offspring[worst_ind].fitness:\n",
    "        offspring.pop(worst_ind)\n",
    "        offspring.append(copy(parents[best_ind]))\n",
    "    \n",
    "    return offspring"
   ]
  },
  {
   "cell_type": "markdown",
   "metadata": {},
   "source": [
    "## Algoritmo Genético"
   ]
  },
  {
   "cell_type": "markdown",
   "metadata": {},
   "source": [
    "A continuación se muestra el algoritmo genético completo."
   ]
  },
  {
   "cell_type": "code",
   "execution_count": 40,
   "metadata": {},
   "outputs": [],
   "source": [
    "def GeneticAlgorithm(G, mu, pc, pm, n, precision, bounds):\n",
    "    num_bits = getSizeVariable(bounds, precision)\n",
    "\n",
    "    population = getInitialPopulation(mu, num_bits, n)\n",
    "    #Fitness\n",
    "    for p in population:\n",
    "        p.x_real = getRealValues(p.x, num_bits, n, bounds)\n",
    "        p.f = f(p.x_real)\n",
    "        p.fitness = getFitness(p.f)\n",
    "\n",
    "    for _ in range(G):\n",
    "        parents = universalStochastic(population, mu)\n",
    "        shuffle(parents)\n",
    "        offspring = []\n",
    "        for i in range(0,mu,2):\n",
    "            if random() < pc:\n",
    "                o1, o2 = twoPointsCrossover(population[parents[i]], population[parents[i+1]])  \n",
    "            else:\n",
    "                o1, o2 = deepcopy(population[parents[i]]), deepcopy(population[parents[i+1]])\n",
    "                \n",
    "            mutation(o1, pm)\n",
    "            o1.x_real = getRealValues(o1.x, num_bits, n, bounds)\n",
    "            o1.f = f(o1.x_real)\n",
    "            o1.fitness = getFitness(o1.f)\n",
    "\n",
    "            mutation(o2, pm)\n",
    "            o2.x_real = getRealValues(o2.x, num_bits, n, bounds)\n",
    "            o2.f = f(o2.x_real)\n",
    "            o2.fitness = getFitness(o2.f)\n",
    "                \n",
    "            offspring.extend([o1, o2])\n",
    "        \n",
    "        population = getSurvivors(population, offspring)\n",
    "\n",
    "\n",
    "    best = getBestIndividual(population)\n",
    "    return population[best]"
   ]
  },
  {
   "cell_type": "code",
   "execution_count": 41,
   "metadata": {},
   "outputs": [],
   "source": [
    "G = 100 #Número de generaciones\n",
    "mu = 100 #tamaño de la población\n",
    "pc = 0.9 #probabilidad de cruza\n",
    "pm = 0.0001 #probabilidad de mutación\n",
    "n = 2 #número de variables de decision\n",
    "precision = 3 #número de dígitos de precisión\n",
    "bounds = [-4.5, 4.5] #límites inferior y superior"
   ]
  },
  {
   "cell_type": "code",
   "execution_count": 42,
   "metadata": {},
   "outputs": [
    {
     "name": "stdout",
     "output_type": "stream",
     "text": [
      "Cadena binaria: 1101111000001010010000000110\n",
      "Componentes reales: [3.30626259 0.56610511]\n",
      "f(x): 0.010923175615842709\n",
      "Aptitud: 0.9891948509250582\n"
     ]
    }
   ],
   "source": [
    "print(GeneticAlgorithm(G, mu, pc, pm, n, precision, bounds))"
   ]
  },
  {
   "cell_type": "markdown",
   "metadata": {},
   "source": [
    "Realizamos $m$ ejecuciones de nuestro algoritmo y obtenemos la corrida que encontró la mejor solución, la corrida que encontró la peor solución, la corrida que se encuentra en la mediana de las $m$ ejecuciones, la media y la desviación estándar de las $m$ corridas con respecto al valor de la función objetivo."
   ]
  },
  {
   "cell_type": "code",
   "execution_count": 31,
   "metadata": {},
   "outputs": [],
   "source": [
    "def makeMRuns(m, G, mu, pc, pm, n, precision, bounds):\n",
    "    sol =[]\n",
    "    for m in range(m):\n",
    "        sol.append(GeneticAlgorithm(G, n, pc, pm, n, precision, bounds))\n",
    "\n",
    "\n",
    "    sol.sort(key=lambda individuo: individuo.f)\n",
    "    print(\"*************** Mejor solución ***************\")\n",
    "    print(sol[0])\n",
    "\n",
    "    print(\"\\n*************** Peor solución ****************\")\n",
    "    print(sol[-1])\n",
    "\n",
    "    print(\"\\n****************** Mediana *******************\")\n",
    "    print(sol[m//2])\n",
    "\n",
    "    f_sol = [x.f for x in sol]\n",
    "    print(\"\\nMedia: \", np.mean(f_sol))\n",
    "    print(\"Desviación estándar: \", np.std(f_sol))"
   ]
  },
  {
   "cell_type": "code",
   "execution_count": 34,
   "metadata": {},
   "outputs": [
    {
     "name": "stdout",
     "output_type": "stream",
     "text": [
      "*************** Mejor solución ***************\n",
      "Cadena binaria: 1101110110010010010000100001\n",
      "Componentes reales: [3.28978209 0.58093756]\n",
      "f(x): 0.020091304576727458\n",
      "Aptitud: 0.9803044056090018\n",
      "\n",
      "*************** Peor solución ****************\n",
      "Cadena binaria: 1100001010101000000110001011\n",
      "Componentes reales: [ 2.3438015  -4.28300678]\n",
      "f(x): 35765.95829927722\n",
      "Aptitud: 2.7958765507331612e-05\n",
      "\n",
      "****************** Mediana *******************\n",
      "Cadena binaria: 0101011111110010001011111110\n",
      "Componentes reales: [-1.40825856  0.42107673]\n",
      "f(x): 32.408936103276446\n",
      "Aptitud: 0.029932111483847255\n",
      "\n",
      "Media:  3412.875542684207\n",
      "Desviación estándar:  8560.413403038703\n"
     ]
    }
   ],
   "source": [
    "m = 21\n",
    "makeMRuns(m, G, mu, pc, pm, n, precision, bounds)"
   ]
  },
  {
   "cell_type": "markdown",
   "metadata": {},
   "source": [
    "Es importante mencionar que este es un diseño simple de un AG. Si se revisa el número de copias que se están realizando de los mejores individuos, se observará que es un valor muy alto y esto puede provocar convergencia a soluciones no óptimas."
   ]
  }
 ],
 "metadata": {
  "kernelspec": {
   "display_name": "Python 3",
   "language": "python",
   "name": "python3"
  },
  "language_info": {
   "codemirror_mode": {
    "name": "ipython",
    "version": 3
   },
   "file_extension": ".py",
   "mimetype": "text/x-python",
   "name": "python",
   "nbconvert_exporter": "python",
   "pygments_lexer": "ipython3",
   "version": "3.6.3"
  }
 },
 "nbformat": 4,
 "nbformat_minor": 4
}
